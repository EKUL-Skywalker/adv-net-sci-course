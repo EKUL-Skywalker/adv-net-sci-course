{
 "cells": [
  {
   "cell_type": "markdown",
   "id": "7a088991",
   "metadata": {},
   "source": [
    "# Constructing and Manipulating Network Data\n",
    "\n",
    "When we think of data, we often think of tables or spreadsheets. However, network data is a set of nodes linked together that does not directly and neatly fit into tables. In this section, we will cover the basics of how to represent a network, manipulate the network data, and visualize it.\n",
    "\n",
    "## Data is not often a network\n",
    "\n",
    "Data often does not appear as a network. Instead, it is often a collection of observations for entities. If the observations represent interactions, dependencies, and any kind of relationships, we can abstract out the relationships as a network."
   ]
  },
  {
   "cell_type": "markdown",
   "id": "6a722c6d",
   "metadata": {},
   "source": [
    "### Example\n",
    "\n",
    "Suppose we have a dataset containing information about students and their course enrollments. Each row in the dataset represents a student's enrollment in a particular course. The columns contain information such as the student's name, the course name, the course instructor, and the semester in which the course was taken.\n",
    "\n",
    "We can abstract out the relationships as a network by treating the students and courses as nodes in the network and drawing edges between them to represent enrollments. For example, if a student has enrolled in a particular course, we can draw an edge between the student node and the course node. This network representation can be useful for analyzing patterns of enrollment and identifying clusters of students who tend to enroll in similar courses. It can also help us understand the relationships between courses and instructors and how they may influence student enrollment.\n",
    "\n",
    "Let's create and visualize the network. We start by loading the csv file:"
   ]
  },
  {
   "cell_type": "code",
   "execution_count": null,
   "id": "f816193e",
   "metadata": {
    "lines_to_next_cell": 2
   },
   "outputs": [],
   "source": [
    "import pandas as pd\n",
    "\n",
    "data_file = \"./course-enrollements.csv\"\n",
    "\n",
    "# Load the csv file using pandas.read_csv function and show the first few rows.\n",
    "data_table = pd.read_csv(data_file)\n",
    "data_table.head()"
   ]
  },
  {
   "cell_type": "markdown",
   "id": "02b00e36",
   "metadata": {},
   "source": [
    "## Representing networks"
   ]
  },
  {
   "cell_type": "markdown",
   "id": "e89a146b",
   "metadata": {},
   "source": [
    "### Edge table\n",
    "Now, let's slice the columns expressing the relationships between students and courses."
   ]
  },
  {
   "cell_type": "code",
   "execution_count": null,
   "id": "12c76593",
   "metadata": {},
   "outputs": [],
   "source": [
    "# Assignment:\n",
    "# Create an edge table with DataFrame and name it `edge_table`.\n",
    "# Then, print the first few rows of the edge table."
   ]
  },
  {
   "cell_type": "markdown",
   "id": "7402c08c",
   "metadata": {
    "lines_to_next_cell": 0
   },
   "source": [
    "Congratulations! You have just created the most common representation of network data, the **edge table** (or edge list). Formally, an edge table is a table with rows representing edges and columns representing the nodes connected by the edges. Since its simplicity, readability, and transferability across different platforms and programming languages, the edge table is widespread.\n",
    "\n",
    "### Indexing\n",
    "\n",
    "Edge table is direct and interpretable. But it is not an ideal format for computing, such as sorting and searching. It is often a good idea to create an **index table** by assigning numbers to individual nodes."
   ]
  },
  {
   "cell_type": "code",
   "execution_count": null,
   "id": "f399f932",
   "metadata": {},
   "outputs": [],
   "source": [
    "import numpy as np\n",
    "\n",
    "# Extract the unique node labels\n",
    "node_labels = list(\n",
    "    set(edge_table[\"student_name\"].values) | set(edge_table[\"course_name\"].values)\n",
    ")\n",
    "\n",
    "# Sort the names\n",
    "node_labels = sorted(node_labels)\n",
    "\n",
    "# Create a node table\n",
    "node_table = pd.DataFrame(\n",
    "    {\"label\": node_labels, \"node_id\": np.arange(len(node_labels), dtype=int)}\n",
    ")\n",
    "node_table"
   ]
  },
  {
   "cell_type": "markdown",
   "id": "dbe98042",
   "metadata": {
    "lines_to_next_cell": 0
   },
   "source": [
    "Then, we recreate the edge table by using the newly created index table."
   ]
  },
  {
   "cell_type": "code",
   "execution_count": null,
   "id": "61f99a72",
   "metadata": {},
   "outputs": [],
   "source": [
    "# Create a mapping from node labels to node index\n",
    "to_node_ids = node_table[[\"node_id\", \"label\"]].set_index(\"label\")[\"node_id\"].to_dict()\n",
    "\n",
    "student_ids = edge_table[\"student_name\"].map(to_node_ids)\n",
    "source_ids = edge_table[\"course_name\"].map(to_node_ids)\n",
    "edge_table = pd.DataFrame({\"student_id\": student_ids, \"course_id\": source_ids})\n",
    "edge_table"
   ]
  },
  {
   "cell_type": "markdown",
   "id": "4a31a79c",
   "metadata": {},
   "source": [
    "### Visualization\n",
    "\n",
    "The edge table can be easily processed by machines, but it is not easily understandable for humans. Do you have any insights about the network pattern based on the edge table? This is where visualization becomes important. By visualizing the network, we can gain a better understanding of its structure in an effectively and efficiently."
   ]
  },
  {
   "cell_type": "code",
   "execution_count": null,
   "id": "5367b944",
   "metadata": {
    "lines_to_next_cell": 0
   },
   "outputs": [],
   "source": [
    "import igraph\n",
    "import numpy as np\n",
    "\n",
    "g = igraph.Graph.DataFrame(edge_table, directed=False)\n",
    "igraph.plot(\n",
    "    g, vertex_label=node_table[\"label\"].values\n",
    ")  # Let's see the graph `igraph` library in our coding"
   ]
  },
  {
   "cell_type": "markdown",
   "id": "a965699f",
   "metadata": {
    "lines_to_next_cell": 0
   },
   "source": [
    "Can you see any patterns?\n",
    "\n",
    "Now, let's compute some simple statistics. How many students' enrollment for Computer Science 101?"
   ]
  },
  {
   "cell_type": "code",
   "execution_count": null,
   "id": "1db0338f",
   "metadata": {},
   "outputs": [],
   "source": [
    "# Asssignment:\n",
    "# Count the number of enrollments using edge_table and save it to \"cnt\" variable"
   ]
  },
  {
   "cell_type": "markdown",
   "id": "c2702e51",
   "metadata": {
    "lines_to_next_cell": 0
   },
   "source": [
    "How many students enrolled in both course \"History 101\" and \"English 101\"?"
   ]
  },
  {
   "cell_type": "code",
   "execution_count": null,
   "id": "2c274548",
   "metadata": {
    "lines_to_next_cell": 0
   },
   "outputs": [],
   "source": [
    "# Assignment:\n",
    "# Count the number of students who enrolled in both courses by using the edge table.\n",
    "#\n",
    "# Hint:\n",
    "# 1. Find the ids of the students who enroll History 101\n",
    "# 2. Find the ids of the students who enroll English 101\n",
    "# 3. Find the intersection of the two sets of the students.\n",
    "#\n",
    "# - pandas.DataFrame has a convenient API `query` that can be used to filter rows based on column values. For instance,\n",
    "# > history_course_id = to_node_ids[\"History 101\"]\n",
    "# > edge_table.query(f\"course_id == {history_course_id}\")\n",
    "# gives the subset of the edge table with students who enroll the History 101."
   ]
  },
  {
   "cell_type": "markdown",
   "id": "d90d0a33",
   "metadata": {},
   "source": [
    "### From edge list to adjacency matrix\n",
    "\n",
    "The code to answer these simple questions may seem tedious. While the edge table is simple, it is not a convenient format for computing with network data. A more convenient format is the **adjacency matrix**. It is a square matrix, where each $(i,j)$ entry represents the presence $A_{ij}=1$ or absence $A_{ij}=0$ of edges.\n",
    "\n",
    "Let's create the adjacency matrix by"
   ]
  },
  {
   "cell_type": "code",
   "execution_count": null,
   "id": "49f037e8",
   "metadata": {},
   "outputs": [],
   "source": [
    "import numpy as np\n",
    "\n",
    "# Fill in other edges\n",
    "A = np.array(g.get_adjacency().data)"
   ]
  },
  {
   "cell_type": "markdown",
   "id": "6fbefe41",
   "metadata": {},
   "source": [
    "Let's compute the number of enrollments for the Computer Science 101 by using the adjacency matrix. To do that, let's see the row corresponding to the course."
   ]
  },
  {
   "cell_type": "code",
   "execution_count": null,
   "id": "04ce312f",
   "metadata": {},
   "outputs": [],
   "source": [
    "A[to_node_ids[\"Computer Science 101\"], :]"
   ]
  },
  {
   "cell_type": "markdown",
   "id": "bef89f66",
   "metadata": {},
   "source": [
    "It encodes the neighbors of the course, where the neighbors (i.e., students) are flagged as one. So we can compute the number of enrollments for the Computer Science 101 by"
   ]
  },
  {
   "cell_type": "code",
   "execution_count": null,
   "id": "60a2b722",
   "metadata": {
    "lines_to_next_cell": 2
   },
   "outputs": [],
   "source": [
    "np.sum(A[to_node_ids[\"Computer Science 101\"], :])"
   ]
  },
  {
   "cell_type": "markdown",
   "id": "00be3d16",
   "metadata": {},
   "source": [
    "Can you compute the number of students who enroll both English 101 and History 101 by using the adjacency matrix?\n",
    "\n",
    "Hint: Use `A[to_node_ids[course name], :]` twice."
   ]
  },
  {
   "cell_type": "code",
   "execution_count": null,
   "id": "cac32f07",
   "metadata": {},
   "outputs": [],
   "source": [
    "# Assignment: compute the number of students who enroll both English 101 and History 101"
   ]
  },
  {
   "cell_type": "markdown",
   "id": "f4c7c8d0",
   "metadata": {},
   "source": [
    "The adjacency matrix is a powerful representation that is convenient for computation. By utilizing linear algebra\n",
    "operations, you write less code and get results quickly."
   ]
  },
  {
   "cell_type": "markdown",
   "id": "e7a2c738",
   "metadata": {},
   "source": [
    "### Sparse matrix: coordinate list and adjacency list\n",
    "\n",
    "The adjacency matrix is often *sparse*. What does it mean? Let's take a look at the whole adjacency matrix\n"
   ]
  },
  {
   "cell_type": "code",
   "execution_count": null,
   "id": "95dc7cb0",
   "metadata": {},
   "outputs": [],
   "source": [
    "# Print the adjacency matrix\n",
    "import sys\n",
    "\n",
    "np.set_printoptions(threshold=sys.maxsize)\n",
    "A"
   ]
  },
  {
   "cell_type": "markdown",
   "id": "7777dee5",
   "metadata": {
    "lines_to_next_cell": 0
   },
   "source": [
    "As you can see, only few entries have value one, while most entries have zero values. The adjacency matrix is a *redundant* representations; it has $n \\times n$ values, few of which indicates the presence of edges. The number of values increases quadratically and can quickly exceeds the memory.\n",
    "\n",
    "There are several representation for sparse matrix. The edge list is in fact a representation of a sparse matrix; it keeps only the elements of non-zero values. It is also called *coordinate list*. Why it's called *coordinate*? We can consider each entry of an adjacency matrix as a pixel and these pixels form an image."
   ]
  },
  {
   "cell_type": "code",
   "execution_count": null,
   "id": "1ded22e7",
   "metadata": {},
   "outputs": [],
   "source": [
    "import matplotlib.pyplot as plt\n",
    "\n",
    "plt.imshow(A)"
   ]
  },
  {
   "cell_type": "markdown",
   "id": "0c136e88",
   "metadata": {},
   "source": [
    "The yellow pixels represent the present of edges, and the edge table represents the `coordinate` of the edges, i.e.,"
   ]
  },
  {
   "cell_type": "code",
   "execution_count": null,
   "id": "e4e8e0b9",
   "metadata": {
    "lines_to_next_cell": 2
   },
   "outputs": [],
   "source": [
    "edge_table"
   ]
  },
  {
   "cell_type": "markdown",
   "id": "62c60a1f",
   "metadata": {
    "lines_to_next_cell": 0
   },
   "source": [
    "Another representation is the adjacency list representation. It is a dictionary with keys being nodes. Each value associated with a key is a list of neighbor node IDs."
   ]
  },
  {
   "cell_type": "raw",
   "id": "a3125b5b",
   "metadata": {
    "lines_to_next_cell": 0
   },
   "source": [
    "d = {\n",
    "  0: [6,11,16], # neighbor of nodes 0\n",
    "  1: [3, 16, 21] # neighbors of node 1\n",
    "  ...\n",
    "}\n"
   ]
  },
  {
   "cell_type": "markdown",
   "id": "044895e6",
   "metadata": {
    "lines_to_next_cell": 0
   },
   "source": [
    "This representation is also known as the dictionary of keys (DOK) or list-of-list (LIL).\n",
    "\n",
    "### Sparse matrix: compressed sparse row/column\n",
    "\n",
    "![](https://matteding.github.io/images/csr.gif)\n",
    "\n",
    "Compressed Sparse Row (CSR) is a highly efficient representation of a sparse matrix. Its main concept revolves around concatenating the adjacency list. Here's how it works: let's say we have an adjacency matrix."
   ]
  },
  {
   "cell_type": "code",
   "execution_count": null,
   "id": "9f72f397",
   "metadata": {
    "lines_to_next_cell": 0
   },
   "outputs": [],
   "source": [
    "[[0, 1, 1, 1], [1, 0, 1, 0], [1, 1, 0, 1], [1, 0, 1, 0]]"
   ]
  },
  {
   "cell_type": "markdown",
   "id": "f00e62ef",
   "metadata": {
    "lines_to_next_cell": 0
   },
   "source": [
    "The adjacency list of the matrix is"
   ]
  },
  {
   "cell_type": "code",
   "execution_count": null,
   "id": "3c9bf2bd",
   "metadata": {
    "lines_to_next_cell": 0
   },
   "outputs": [],
   "source": [
    "{\n",
    "    0: [1, 2, 3],  # neighbors of node 0\n",
    "    1: [0, 2],  # neighbors of node 1\n",
    "    2: [0, 1, 3],  # neighbors of node 2\n",
    "    3: [0, 2],  # neighbors of node 3\n",
    "}"
   ]
  },
  {
   "cell_type": "markdown",
   "id": "ae721c1a",
   "metadata": {
    "lines_to_next_cell": 0
   },
   "source": [
    "Now, let's talk about the CSR matrix.\n",
    "The CSR matrix representation consists of three arrays, i.e., `indices`, `indptr`, and `data`. The `indices` is formed by combining the lists into a single list.\n",
    "$$\n",
    "\\begin{align}\n",
    "\\text{indices}:=[\\underbrace{0,1,2}_{\\text{node 0}},\\underbrace{0,2}_{\\text{node 1}},\\underbrace{0,3,4}_{\\text{node 2}},\\underbrace{0,2}_{\\text{node 3}}]\n",
    "\\end{align}\n",
    "$$\n",
    "The array `indices` consists of $n=4$ subarrays, with each subarray representing the neighbors of a specific node. Additionally, there is another array called `indptr` that indicates the partitioning of the\n",
    "`indices` array.\n",
    "$$\n",
    "\\begin{align}\n",
    "\\text{indptr}:=[0,3,5,8,10]\n",
    "\\end{align}\n",
    "$$\n",
    "The `indptr` array indicates the starting indices of each subarray. For example, `indptr[0]` indicates the index from which the neighbors of node 0 are listed, and `indptr[1]` indicates another index from which the neighbors of node 1 is listed.\n",
    "\n",
    "If the sparse matrix is not a binary matrix, meaning the entries of the matrix can take values other than 0 and 1, the CSR representation also includes a `data` array that contains the entry values. The `data` array is divided into subarrays in the same manner as the `indices` array. For example, `data[0]` represents the weight of the edge to the neighbor `indices[0]`.\n",
    "\n",
    "With that, let's create the CSR representation of the network of the students and courses. Let's first create the adjacency list."
   ]
  },
  {
   "cell_type": "code",
   "execution_count": null,
   "id": "c9920069",
   "metadata": {
    "lines_to_next_cell": 0
   },
   "outputs": [],
   "source": [
    "# Assignment:\n",
    "# Create the adjacency list (with a dictionary named adjList) of the network of the students and courses.\n",
    "# adjList = {\n",
    "#   0: [...]\n",
    "#   1: [...]\n",
    "#   2: [...]\n",
    "#   ....\n",
    "# }"
   ]
  },
  {
   "cell_type": "markdown",
   "id": "ed814c8b",
   "metadata": {
    "lines_to_next_cell": 0
   },
   "source": [
    "Then, create the CSR representation."
   ]
  },
  {
   "cell_type": "code",
   "execution_count": null,
   "id": "6d941bde",
   "metadata": {
    "lines_to_next_cell": 0
   },
   "outputs": [],
   "source": [
    "# Assignment:\n",
    "# Create the CSR representation of the network of the students and courses."
   ]
  },
  {
   "cell_type": "markdown",
   "id": "551b9d3d",
   "metadata": {
    "lines_to_next_cell": 0
   },
   "source": [
    "CSR matrix is useful in finding the neighbors of a specific node, just like the adjacency list. For instance,\n",
    "the neighbors of node `Computer Science 101` is given by"
   ]
  },
  {
   "cell_type": "code",
   "execution_count": null,
   "id": "2ed2ef8d",
   "metadata": {
    "lines_to_next_cell": 0
   },
   "outputs": [],
   "source": [
    "node_id = to_node_ids[\"Computer Science 101\"]\n",
    "indices[indptr[node_id] : indptr[node_id + 1]]"
   ]
  },
  {
   "cell_type": "markdown",
   "id": "01a569fe",
   "metadata": {
    "lines_to_next_cell": 0
   },
   "source": [
    "Why it works? Let's break down the second line.\n",
    "The variable"
   ]
  },
  {
   "cell_type": "code",
   "execution_count": null,
   "id": "f9b65805",
   "metadata": {
    "lines_to_next_cell": 0
   },
   "outputs": [],
   "source": [
    "indices"
   ]
  },
  {
   "cell_type": "markdown",
   "id": "1cb10f3e",
   "metadata": {
    "lines_to_next_cell": 0
   },
   "source": [
    "is an array consisting of subarrays. And each subarray is associated with a row of the adjacency matrix and consists of column IDs with non-zero entry values for the row.\n",
    "The subarrays are partitioned by"
   ]
  },
  {
   "cell_type": "code",
   "execution_count": null,
   "id": "9aac2b2c",
   "metadata": {
    "lines_to_next_cell": 0
   },
   "outputs": [],
   "source": [
    "indptr"
   ]
  },
  {
   "cell_type": "markdown",
   "id": "b30e3176",
   "metadata": {
    "lines_to_next_cell": 0
   },
   "source": [
    "For instance,"
   ]
  },
  {
   "cell_type": "code",
   "execution_count": null,
   "id": "7a3ef4b6",
   "metadata": {
    "lines_to_next_cell": 0
   },
   "outputs": [],
   "source": [
    "indices[indptr[0] : indptr[1]]"
   ]
  },
  {
   "cell_type": "markdown",
   "id": "ec791d68",
   "metadata": {},
   "source": [
    "is a subarray associated with the first row (and thus node 0), which contains the column IDs of the non-zero entries."
   ]
  },
  {
   "cell_type": "code",
   "execution_count": null,
   "id": "ba8bc06d",
   "metadata": {
    "lines_to_next_cell": 0
   },
   "outputs": [],
   "source": [
    "# Assignment\n",
    "# Compute the number of students who enroll both English 101 and History 101 by using the CSR format."
   ]
  }
 ],
 "metadata": {
  "jupytext": {
   "cell_metadata_filter": "tags"
  },
  "kernelspec": {
   "display_name": "Python 3",
   "language": "python",
   "name": "python3"
  }
 },
 "nbformat": 4,
 "nbformat_minor": 5
}
