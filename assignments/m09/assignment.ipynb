{
 "cells": [
  {
   "cell_type": "markdown",
   "id": "919a4ddf",
   "metadata": {},
   "source": [
    "# Network model\n",
    "\n",
    "In this assignment, we will learn network models and how to use them by reproducing the results of the following paper:\n",
    "\n",
    "> Colizza, V., Flammini, A., Serrano, M. et al. Detecting rich-club ordering in complex networks. Nature Phys 2, 110–115 (2006). https://doi.org/10.1038/nphys209\n",
    "\n",
    "This paper explores the main factor that gives rise to a prevalent structure of complex networks, *rich-club* structure.\n",
    "\n",
    "### What is rich club\n",
    "\n",
    "![](https://upload.wikimedia.org/wikipedia/commons/thumb/e/ea/Disassortative_network_demonstrating_the_Rich_Club_effect.png/440px-Disassortative_network_demonstrating_the_Rich_Club_effect.png)\n",
    "\n",
    "Rich club refers to a tendency for high-degree (rich) nodes to form a densely-connected group (club). The structure is first quantitatively identified in the structure of the Internet [[Zhou & Mondragon]](https://ieeexplore.ieee.org/document/1278314), which was later identified in social networks [[Guimerà, et al.]](https://www.science.org/doi/full/10.1126/science.1106340?casa_token=pBOtOBI3k_cAAAAA%3A64Amr-hwUeOFgO_Md23JLC8POrNwK4yFv6sDLjZua-yBjDsV108-qGexZ1P85KqjcWPVrinR3U2T1A).\n",
    "\n",
    "\n",
    "### Quantitative evidence of rich club structure\n",
    "\n",
    "The rich club structure is defined as follows.\n",
    "Let us consider, for a moment, that nodes with a degree greater than $k$ are the members of the rich club.\n",
    "Then, we measure the density of edges between the rich club members as **the rich-club coefficient**, denoted as $\\psi(k)$, i.e.,\n",
    "$$\n",
    "\\psi(k):=\\frac{E_{>k}}{N_{>k}(N_{>k}-1)/2},\n",
    "$$\n",
    "where $N_{>k}$ is the number of nodes with degree greater than $k$ and $E_{>k}$ is the number of edges between them.\n",
    "Essentially, $\\psi(k)$ is the probability of edges within the rich club.\n",
    "If the network has a rich club, the members of the rich club should be densely connected. Thus, $\\psi(k)$ should increase if we increase the degree threshold $k$.\n",
    "\n",
    "As an example, let us compute the rich club coefficient by using the Internet data taken from SNAP project: https://snap.stanford.edu/data/as-733.html"
   ]
  },
  {
   "cell_type": "code",
   "execution_count": null,
   "id": "1f3c43b7",
   "metadata": {},
   "outputs": [],
   "source": [
    "from scipy import sparse\n",
    "import pandas as pd\n",
    "import igraph\n",
    "import numpy as np\n",
    "from scipy import stats\n",
    "\n",
    "\n",
    "edge_table = pd.read_csv(\n",
    "    \"https://snap.stanford.edu/data/as20000102.txt.gz\",\n",
    "    skiprows=4,\n",
    "    sep=\"\\t\",\n",
    "    header=None,\n",
    "    names=[\"src\", \"trg\"],\n",
    ")\n",
    "\n",
    "# Reindexing\n",
    "edge_table_flattened = edge_table[[\"src\", \"trg\"]].values.reshape(\n",
    "    -1\n",
    ")  # flatten the edge table\n",
    "reindexed_edge_table_flattened = np.unique(edge_table_flattened, return_inverse=True)[\n",
    "    1\n",
    "]  # Reinedxing\n",
    "edge_table.loc[:, [\"src\", \"trg\"]] = reindexed_edge_table_flattened.reshape(\n",
    "    (-1, 2)\n",
    ")  # Resize\n",
    "\n",
    "# Get edge ids\n",
    "src, trg = tuple(edge_table[[\"src\", \"trg\"]].values.T)\n",
    "\n",
    "# Remove self loops\n",
    "is_self_loop = src == trg\n",
    "src = src[~is_self_loop]\n",
    "trg = trg[~is_self_loop]\n",
    "\n",
    "# Create igraph Graph object\n",
    "edge_list = tuple(zip(src, trg))\n",
    "g = igraph.Graph(edge_list, directed=False)\n",
    "n_nodes = g.vcount()\n",
    "n_edges = g.ecount()\n",
    "\n",
    "# Create the adajacency matrix\n",
    "A = g.get_adjacency_sparse()\n",
    "\n",
    "print(f\"\\# of nodes = {n_nodes}, \\# of edges = {n_edges}\")"
   ]
  },
  {
   "cell_type": "markdown",
   "id": "9e8fb401",
   "metadata": {},
   "source": [
    "Let's compute the rich-club coefficient for degree $k$."
   ]
  },
  {
   "cell_type": "code",
   "execution_count": null,
   "id": "c6f1d31e",
   "metadata": {},
   "outputs": [],
   "source": [
    "def rich_club_coefficient(A, k):\n",
    "    \"\"\"Rich club coefficient\n",
    "\n",
    "    Parameters\n",
    "    ----------\n",
    "    A : scipy CSR sparse martix\n",
    "        Adjacency matrix\n",
    "    k : int\n",
    "        Degree threshold for the rich club\n",
    "\n",
    "    Returns\n",
    "    -------\n",
    "    psi: float\n",
    "        Rich club coefficient\n",
    "    \"\"\"\n",
    "    psi ...\n",
    "    return psi"
   ]
  },
  {
   "cell_type": "markdown",
   "id": "100f0db1",
   "metadata": {},
   "source": [
    "Now, let's plot $\\psi$ as a function of $k$:"
   ]
  },
  {
   "cell_type": "code",
   "execution_count": null,
   "id": "b3a7a4d7",
   "metadata": {},
   "outputs": [],
   "source": [
    "import matplotlib.pyplot as plt\n",
    "import seaborn as sns\n",
    "\n",
    "deg = np.array(A.sum(axis=1)).reshape(-1)\n",
    "\n",
    "results = []\n",
    "for k in np.unique(deg):\n",
    "    psi = rich_club_coefficient(A, k)\n",
    "    results.append({\"k\": k, \"psi\": psi})\n",
    "plot_data = pd.DataFrame(results)"
   ]
  },
  {
   "cell_type": "code",
   "execution_count": null,
   "id": "9de3c008",
   "metadata": {},
   "outputs": [],
   "source": [
    "fig, ax = plt.subplots(figsize=(5, 5))\n",
    "sns.lineplot(x=\"k\", y=\"psi\", data=plot_data, marker=\"o\", ax=ax)\n",
    "ax.set_xlabel(\"Degree, $k$\")\n",
    "ax.set_ylabel(\"Rich club coefficient\")\n",
    "ax.set_xscale(\"log\")\n",
    "ax.set_yscale(\"log\")\n",
    "sns.despine()"
   ]
  },
  {
   "cell_type": "markdown",
   "id": "7b0aa2e7",
   "metadata": {},
   "source": [
    "The figure illustrates a prominent rich club phenomenon in the Internet, as indicated by the significant upward trend in the rich club coefficient.\n",
    "\n",
    "### Rich club in random networks\n",
    "\n",
    "In the early 2000s, the rich club structure had been reported across networks in diverse domains. However, it remained unclear what gave rise to the seemingly universal rich club structure.\n",
    "\n",
    "[Colliza et. al](https://www.nature.com/articles/nphys209) provided one plausible \"cause\" of the rich club phenomenon. Crucially, in the figure below, they demonstrated that even random networks (denoted by ER), which are supposed to have no structure at all, can have a similar increasing rich club coefficient.\n",
    "\n",
    "This was a striking result since it suggests that the rich club---which had been considered to be a hallmark of complex networks---may be perhaps generated by some trivial mechanisms.\n",
    "\n",
    "![](https://media.springernature.com/full/springer-static/image/art%3A10.1038%2Fnphys209/MediaObjects/41567_2006_Article_BFnphys209_Fig1_HTML.jpg?as=webp)"
   ]
  },
  {
   "cell_type": "markdown",
   "id": "e85fc0d3",
   "metadata": {},
   "source": [
    "## The origin of the rich-club phenomenon\n",
    "\n",
    "Why does the random network have a strong, rich club even though the random network is supposed to have no non-trivial structures? It's because hub nodes have many edges and thus have a higher chance of being connected than nodes with few edges. Colizza et al. argue that the rich club is largely explained by node degree, meaning the rich club almost always exists if the degree has some variability and that the many empirical rich club structures can be explained by the degree.\n",
    "\n",
    "Let us test the hypothesis by using the configuration model. The configuration model generates a random network with a given degree sequence. With `igraph`, you can create the configuration model by"
   ]
  },
  {
   "cell_type": "code",
   "execution_count": null,
   "id": "d64fe1f6",
   "metadata": {},
   "outputs": [],
   "source": [
    "grand = g.copy()  # Make a copy\n",
    "grand.rewire()  # This is in-place operation and break the data if you didn't make a copy"
   ]
  },
  {
   "cell_type": "markdown",
   "id": "7f51cd4d",
   "metadata": {},
   "source": [
    "Now, let's compute the rich-club coefficient and compare it against the original network."
   ]
  },
  {
   "cell_type": "code",
   "execution_count": null,
   "id": "ab4560e1",
   "metadata": {},
   "outputs": [],
   "source": [
    "import matplotlib.pyplot as plt\n",
    "import seaborn as sns\n",
    "\n",
    "deg = np.array(A.sum(axis=1)).reshape(-1)\n",
    "Arand = grand.get_adjacency_sparse()\n",
    "\n",
    "results = []\n",
    "for k in np.unique(deg):\n",
    "    psi = rich_club_coefficient(A, k)\n",
    "    psi_rand = rich_club_coefficient(Arand, k)\n",
    "    results.append({\"k\": k, \"psi\": psi, \"psi_rand\": psi_rand})\n",
    "plot_data = pd.DataFrame(results)\n",
    "\n",
    "fig, ax = plt.subplots(figsize=(5, 5))\n",
    "sns.lineplot(x=\"k\", y=\"psi\", data=plot_data, marker=\"o\", ax=ax, label=\"original\")\n",
    "sns.lineplot(\n",
    "    x=\"k\",\n",
    "    y=\"psi_rand\",\n",
    "    data=plot_data,\n",
    "    marker=\"o\",\n",
    "    ax=ax,\n",
    "    label=\"Configuration model\",\n",
    ")\n",
    "ax.set_xlabel(\"Degree, $k$\")\n",
    "ax.set_ylabel(\"Rich club coefficient\")\n",
    "ax.set_xscale(\"log\")\n",
    "ax.set_yscale(\"log\")\n",
    "sns.despine()"
   ]
  },
  {
   "cell_type": "markdown",
   "id": "69392f45",
   "metadata": {},
   "source": [
    "You should see that the rich club coefficient is very close to the one for the random networks, an indication that the rich club structure is largely due to the node degree.\n",
    "\n",
    "\n",
    "## Normalized rich club coefficient\n",
    "\n",
    "Colizza et al. develop a *normalized* rich club coefficient by reflecting the fact that hub nodes are likely to be connected to each other in random networks. The normalized rich club coefficient $\\Phi_{\\text{norm}}(k)$ is given by\n",
    "$$\n",
    "\\Phi_{\\text{norm}}(k) = \\frac{\\Phi(k)}{{\\mathbb E}[\\Phi_{\\text{random}}(k)]}\n",
    "$$\n",
    "where $\\Phi(k)$ is the original rich club coefficient for a given network, and ${\\mathbb E}[\\Phi_{\\text{random}}(k)]$ is the original rich club coefficient for random networks generated by the configuration model, *on average*. We compute the average numerically by generating many realizations of the configuration models and take the average rich club coefficients of the realizations. The following is a sketch of how to compute the normalized rich club coefficient:"
   ]
  },
  {
   "cell_type": "code",
   "execution_count": null,
   "id": "a5d08ed0",
   "metadata": {},
   "outputs": [],
   "source": [
    "def normalized_rich_club_coefficient(A, klist, n_random_graphs=30):\n",
    "    \"\"\"_summary_\n",
    "\n",
    "    Parameters\n",
    "    ----------\n",
    "    A : scipy CSR sparse martix\n",
    "        Adjacency matrix\n",
    "    klist : numpy.ndarray\n",
    "        list of degree thresholds\n",
    "    n_random_graphs : int, optional\n",
    "        Number of random networks, by default 30\n",
    "\n",
    "    Returns\n",
    "    -------\n",
    "    rich_club_coefficients : list\n",
    "        list of rich club coefficients\n",
    "    \"\"\"\n",
    "\n",
    "    # Construct the igraph object\n",
    "    src, trg, _ = sparse.find(sparse.triu(A, 1))\n",
    "    edge_list = tuple(zip(src, trg))\n",
    "    g = igraph.Graph(edge_list, directed=False)\n",
    "\n",
    "    # Compute the rich club coefficient for the original graph\n",
    "    rich_club_coefficients = []\n",
    "    for k in klist:\n",
    "        psi = rich_club_coefficient(A, k)\n",
    "        rich_club_coefficients.append({\"psi\": psi, \"k\": k})\n",
    "\n",
    "    # Generate a random graph and compute the rich club coefficient\n",
    "    random_rich_club_coefficients = []\n",
    "    for i in range(n_random_graphs):\n",
    "        # Generate a random graph\n",
    "        # Your code....\n",
    "\n",
    "        for k in klist:\n",
    "            # Compute the rich club coefficient for the random graph\n",
    "            # Your code....\n",
    "\n",
    "            # store the computed coefficient\n",
    "            random_rich_club_coefficients.append({\"psi_rand\": psi_rand, \"k\": k})\n",
    "\n",
    "    # Compute the average of psi_rand for each k\n",
    "    # Your code....\n",
    "\n",
    "    # Divided the rich club coefficient for the given network by the average of psi_rand with the same k\n",
    "    # Your code....\n",
    "\n",
    "    return normalized_psi_list"
   ]
  },
  {
   "cell_type": "markdown",
   "id": "2655c92a",
   "metadata": {},
   "source": [
    "## Degree is a major determinant of network structure\n",
    "\n",
    "\n",
    "Heterogeneous degree distribution can explain seemingly non-trivial network structure. An example is the centrality measure. Even if the centrality measures are not directly based on degree, such as the closeness centrality, they have a strong correlation with the degree.\n",
    "\n",
    "Let us illustrate the strong correlation of several centrality measures to node degree. Let us compute the following centrality measures:\n"
   ]
  },
  {
   "cell_type": "code",
   "execution_count": null,
   "id": "af62f099",
   "metadata": {},
   "outputs": [],
   "source": [
    "centralities = []\n",
    "\n",
    "# Page Rank\n",
    "centralities += [{\"centrality\": g.pagerank(), \"name\": \"pagerank\"}]\n",
    "\n",
    "# Closeness centrality\n",
    "centralities += [{\"centrality\": g.closeness(), \"name\": \"closeness\"}]\n",
    "\n",
    "# Betweenenss\n",
    "centralities += [{\"centrality\": g.betweenness(), \"name\": \"betweenness\"}]\n",
    "\n",
    "# Eigenvector centrality\n",
    "centralities += [\n",
    "    {\"centrality\": g.eigenvector_centrality(), \"name\": \"eigenvector centrality\"}\n",
    "]"
   ]
  },
  {
   "cell_type": "code",
   "execution_count": null,
   "id": "c0506716",
   "metadata": {},
   "outputs": [],
   "source": [
    "from scipy import stats\n",
    "\n",
    "deg = g.degree()\n",
    "\n",
    "correlation = {c[\"name\"]: stats.pearsonr(deg, c[\"centrality\"])[0] for c in centralities}\n",
    "correlation"
   ]
  },
  {
   "cell_type": "markdown",
   "id": "a45bb8b6",
   "metadata": {},
   "source": [
    "All centrality metrics except few metrics (e.g., closeness) are strongly correlated with degree."
   ]
  },
  {
   "cell_type": "markdown",
   "id": "0a3002fe",
   "metadata": {},
   "source": [
    "## Debiasing degree bias\n",
    "\n",
    "If your network has a heterogeneous degree distribution, you should consider whether a focal structure is explained by the degree to what extent. Many structures can be explained by degree, such as [nested structure](https://journals.aps.org/prx/abstract/10.1103/PhysRevX.9.031024) and [core-periphery structure](https://iopscience.iop.org/article/10.1088/1367-2630/aab547#:~:text=In%20other%20words%2C%20a%20core,overlap%20with%20the%20first%20one.).\n",
    "\n",
    "Like the normalized rich club coefficient, the discounting degree effect can bring out new insights. For example, the modularity maximization naturally discounts the degree effect since it seeks the communities that are denser than expected by the configuration model. Similarly, [the degree-corrected stochastic block model](https://journals.aps.org/pre/abstract/10.1103/PhysRevE.83.016107) discounts the effect of the degree, finding a more natural community structure."
   ]
  },
  {
   "cell_type": "markdown",
   "id": "b07f7702",
   "metadata": {},
   "source": [
    "#### An origin of degree heterogeneity\n",
    "\n",
    "The rich club phenomenon can be explained largely by the heterogeneous degree distribution. And the heterogeneous degree distribution is, in fact, ubiquitous across a variety of networks. But what is, in the first place, the underlying mechanism generating this heterogeneity?\n",
    "\n",
    "We can approach the \"cause\" by thinking about yet another network process, i.e., preferential attachment.\n",
    "It is a process in which a node is more likely to form a new edge with another node with a high degree. It is also called the `rich-gets-richer` phenomenon since a high-degree node is more likely to be connected than less cited nodes."
   ]
  },
  {
   "cell_type": "code",
   "execution_count": null,
   "id": "4dc5ebbb",
   "metadata": {},
   "outputs": [],
   "source": [
    "def preferential_attachment_model(n, m, n0=20, m0=1):\n",
    "    \"\"\"\n",
    "    Generate a graph using the preferential attachment model. The network is unweighted and undirected.\n",
    "\n",
    "    Parameters\n",
    "    ----------\n",
    "    n : int\n",
    "        The number of new nodes at each time step.\n",
    "    m : int\n",
    "        The number of edges to attach from a new node to existing nodes.\n",
    "    n0 : int\n",
    "        The initial number of nodes in the network.\n",
    "    m0 : int\n",
    "        The offset number of edges.\n",
    "\n",
    "    Returns\n",
    "    -------\n",
    "    A : scipy.sparse matrix\n",
    "        Adjacency matrix of the generated network.\n",
    "\n",
    "    Hint:\n",
    "    - At first, create a star graph of n0 nodes, where one node connects to every other node, but every other node is not connected.\n",
    "    - Then, for iterate over n - n0 time steps. At each time step, add a new node and connect it to m existing nodes.\n",
    "    - The probability of connecting a new node to an existing node is proportional to the degree plus m0 of the existing node.\n",
    "    - To sample a node based on the probability, you can use `np.random.choice`. Use `replace=False` to avoid multiple edges between the same pair of nodes.\n",
    "    \"\"\"\n",
    "    ..."
   ]
  },
  {
   "cell_type": "markdown",
   "id": "5246a258",
   "metadata": {},
   "source": [
    "How heterogeneous is the degree distribution? Let's plot the CCDF!"
   ]
  },
  {
   "cell_type": "code",
   "execution_count": null,
   "id": "e6916803",
   "metadata": {},
   "outputs": [],
   "source": [
    "# Generate random network\n",
    "n = A.shape[0]\n",
    "\n",
    "Arand = preferential_attachment_model(n=n, m=5, n0=10, m0=1)\n",
    "\n",
    "# Compute the degree\n",
    "deg_rand = np.array(Arand.sum(axis=0)).ravel()\n",
    "\n",
    "# Plot the degree distributions\n",
    "import matplotlib.pyplot as plt\n",
    "import seaborn as sns\n",
    "\n",
    "fig, ax = plt.subplots(1, 1, figsize=(5, 5))\n",
    "\n",
    "ax = sns.ecdfplot(\n",
    "    deg_rand,\n",
    "    label=\"Preferential attachment model\",\n",
    "    complementary=True,\n",
    "    log_scale=(True, True),\n",
    "    ax=ax,\n",
    ")\n",
    "ax.legend(frameon=False)\n",
    "ax.set_xlabel(\"Degree\")\n",
    "sns.despine()"
   ]
  },
  {
   "cell_type": "markdown",
   "id": "60c51979",
   "metadata": {},
   "source": [
    "# Assignment\n",
    "**Q1 Draw the rich club coefficient as a function of $k$ for an Erdős–Rényi random graph of 5000 nodes with the edge probability of $p=1/500$. You can use igraph.API, e.g., `igraph.Graph.Erdos_Renyi(n=15, p=0.2, directed=False, loops=False)`**"
   ]
  },
  {
   "cell_type": "code",
   "execution_count": null,
   "id": "281b4b2c",
   "metadata": {},
   "outputs": [],
   "source": []
  },
  {
   "cell_type": "markdown",
   "id": "5c771dc1",
   "metadata": {},
   "source": [
    "---\n",
    "\n",
    "**Q2: Plot the rich club coefficient against the degree ($k$) for both the original Internet network and the configuration model that precisely preserves the degree. The configuration model can be generated using the 'g.rewire' function. Please note that the 'g.rewire' API is an in-place operation, so create a copy of the network before executing the .rewire API.**"
   ]
  },
  {
   "cell_type": "code",
   "execution_count": null,
   "id": "aab0cc5e",
   "metadata": {},
   "outputs": [],
   "source": []
  },
  {
   "cell_type": "markdown",
   "id": "03559d61",
   "metadata": {},
   "source": [
    "---\n",
    "\n",
    "**Q3: Compute the normalized rich club coefficient numerically by using 30 realizations of the configuration model. And draw a figure of the degree vs the degree-normalized rich club coefficient**"
   ]
  },
  {
   "cell_type": "code",
   "execution_count": null,
   "id": "2a5296b1",
   "metadata": {},
   "outputs": [],
   "source": []
  },
  {
   "cell_type": "markdown",
   "id": "c3fbade6",
   "metadata": {},
   "source": [
    "---\n",
    "\n",
    "**Q4: Implement the preferential attachment model below. And generate a network based on the preferential attachment model with $m=5$ and $n$ being the number of nodes in the Internet network. Then, plot the CCDF of the degree distributions for the Internet network and the preferential attachment in the same plot in a log-log scale. Do not forget to label your x and y axes and clearly indicate which distribution corresponds to which model.**"
   ]
  },
  {
   "cell_type": "code",
   "execution_count": null,
   "id": "1738968a",
   "metadata": {},
   "outputs": [],
   "source": [
    "def preferential_attachment_model(n, m, n0=20, m0=1):\n",
    "    \"\"\"\n",
    "    Generate a graph using the preferential attachment model. The network is unweighted and undirected.\n",
    "\n",
    "    Parameters\n",
    "    ----------\n",
    "    n : int\n",
    "        The number of new nodes at each time step.\n",
    "    m : int\n",
    "        The number of edges to attach from a new node to existing nodes.\n",
    "    n0 : int\n",
    "        The initial number of nodes in the network.\n",
    "    m0 : int\n",
    "        The offset number of edges.\n",
    "\n",
    "    Returns\n",
    "    -------\n",
    "    A : scipy.sparse matrix\n",
    "        Adjacency matrix of the generated network.\n",
    "\n",
    "    Hint:\n",
    "    - At first, create a star graph of n0 nodes, where one node connects to every other node, but every other node is not connected.\n",
    "    - Then, for iterate over n - n0 time steps. At each time step, add a new node and connect it to m existing nodes.\n",
    "    - The probability of connecting a new node to an existing node is proportional to the degree plus m0 of the existing node.\n",
    "    - To sample a node based on the probability, you can use `np.random.choice`. Use `replace=False` to avoid multiple edges between the same pair of nodes.\n",
    "    \"\"\"\n",
    "    ..."
   ]
  },
  {
   "cell_type": "markdown",
   "id": "7ee446a6",
   "metadata": {},
   "source": [
    "You should see a heterogeneous degree distribution with a fat-trail distribution similar to the one for the citation network. Although the distribution is different, it's remarkable that a simple model like the preferential attachment model can reproduce the heterogeneous degree distribution to a large extent."
   ]
  }
 ],
 "metadata": {
  "kernelspec": {
   "display_name": "advnetsci",
   "language": "python",
   "name": "python3"
  }
 },
 "nbformat": 4,
 "nbformat_minor": 5
}
