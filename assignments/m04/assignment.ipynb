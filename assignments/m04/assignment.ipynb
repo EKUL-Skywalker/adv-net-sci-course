{
 "cells": [
  {
   "cell_type": "markdown",
   "id": "4baf9416",
   "metadata": {},
   "source": [
    "# Fix it or break it!\n",
    "\n",
    "In this assignment, you choose to be either a good 😇 or a bad 😈 person. Follow the instruction below and submit your paper to Brightspace.\n",
    "\n",
    "## If you choose to be (or you are) a good person 😇:\n",
    "Find a highly problematic visualization (you can have more than one!). Write a short paper (also feel free to publish in your blog or something) that\n",
    "- dissects and explains why the visualizations are problematic.\n",
    "- explains how the visualization can be fixed.\n",
    "- provides a fixed visualization (either hand-drawn or plotted with any tool)\n",
    "\n",
    "## If you choose to be a bad person 😈:\n",
    "Find a perfectly fine visualization (you can have more than one!). Write a short paper that\n",
    "- how can those visualization can be broken to mislead one way or the other.\n",
    "- provides a broken version of the visualization (either hand-drawn or plotted with any tool) - the more malicious and subtle it is, the better!\n",
    "\n",
    "NOTE: For assignment, You are required to write a paper on one of the above two (good or bad) and not both but if you are interested, you can write for both."
   ]
  }
 ],
 "metadata": {
  "kernelspec": {
   "display_name": "Python 3",
   "language": "python",
   "name": "python3"
  }
 },
 "nbformat": 4,
 "nbformat_minor": 5
}
