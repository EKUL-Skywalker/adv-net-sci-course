{
 "cells": [
  {
   "cell_type": "markdown",
   "id": "5af68594",
   "metadata": {},
   "source": [
    "# Assignment\n",
    "\n",
    "Pick three of the following visualizations and write a critique and propose improvement from a perspective of human perception.\n",
    "\n",
    "*Visualization 1*\n",
    "![Flavor network](https://media.springernature.com/full/springer-static/image/art%3A10.1038%2Fsrep00196/MediaObjects/41598_2011_Article_BFsrep00196_Fig2_HTML.jpg?as=webp)\n",
    "Source: https://www.nature.com/articles/srep00196\n",
    "\n",
    "*Visualization 2*\n",
    "![Heat map 1](https://upload.wikimedia.org/wikipedia/commons/thumb/4/48/Heatmap.png/1200px-Heatmap.png)\n",
    "\n",
    "*Visualization 3*\n",
    "![Heat map 2](https://static.wingify.com/gcp/uploads/sites/3/2020/03/Heatmap-Weather.jpg)\n",
    "\n",
    "*Visualization 4*\n",
    "![Bar chart](https://flowingdata.com/wp-content/uploads/2014/04/Fox-News-bar-chart-1.jpeg?w=640)\n",
    "\n",
    "*Visualization 5*\n",
    "![Pi chart](https://spreadsheetdaddy.com/wp-content/uploads/2021/07/how-to-create-a-pie-chart-from-a-single-column-in-excel.png)\n",
    "\n",
    "*Visualization 6*\n",
    "![Line graph](https://www.clearlyandsimply.com/.a/6a00e554d9fb9988330263e94e3a73200b-pi)\n",
    "\n",
    "*Visualization 7*\n",
    "![Geo map](https://media-cldnry.s-nbcnews.com/image/upload/newscms/2015_02/843156/acmmtpmap.jpg)"
   ]
  }
 ],
 "metadata": {
  "kernelspec": {
   "display_name": "Python 3",
   "language": "python",
   "name": "python3"
  }
 },
 "nbformat": 4,
 "nbformat_minor": 5
}
