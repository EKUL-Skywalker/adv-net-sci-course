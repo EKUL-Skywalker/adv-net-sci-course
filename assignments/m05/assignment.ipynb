{
 "cells": [
  {
   "cell_type": "markdown",
   "id": "471b336a",
   "metadata": {},
   "source": [
    "# Network visualization\n",
    "In this assignment, you will explore network visualization tools such as igraph, networkx, and Gephi. You have the flexibility to choose either tool, so feel free to experiment with all. I recommend starting with igraph or networkx since you have more control over the calculation and produce reproduceable results."
   ]
  },
  {
   "cell_type": "markdown",
   "id": "90e87fd3",
   "metadata": {},
   "source": [
    "# Network visualization tools"
   ]
  },
  {
   "cell_type": "markdown",
   "id": "18fbf787",
   "metadata": {},
   "source": [
    "### networkx (not recommended)\n",
    "\n",
    "`networkx` is a Python package that offers a user-friendly interface. It is primarily written in Python, making it simple to install and modify. However, one drawback is that it is slow, particularly when dealing with large networks. Additionally, `networkx` may not faithfully implement certain algorithms, which raises concerns about its reliability. Despite its widespread usage, I do not recommend using this package for these reasons.\n",
    "\n",
    "### igraph\n",
    "\n",
    "`igraph` is an alternative to `networkx`. It is a fast, open source C library of a collection of network tools. See [here](https://python.igraph.org/en/stable/tutorials/quickstart.html#tutorials-quickstart) for how to use it.\n"
   ]
  },
  {
   "cell_type": "markdown",
   "id": "2a2a2d47",
   "metadata": {},
   "source": [
    "### **Gephi**:\n",
    "If you want an interactive network visualization, Gephi is a useful tool. Gephi can read various format for network data, including the csv formats we used previously.\n",
    "\n",
    "### graph_tool:\n",
    "The `graph tool` is a comprehensive set of network analysis tools that excels in its community detection algorithm. It provides a wide range of tools for effectively visualizing communities and hierarchical structures in networks.\n",
    "\n",
    "# Data\n",
    "\n",
    "We will use the airport network. The data about the nodes and edges can be found in \"airport_network\" folder. They are already preprocessed in table format.\n"
   ]
  },
  {
   "cell_type": "code",
   "execution_count": null,
   "id": "7adf7922",
   "metadata": {
    "lines_to_next_cell": 2
   },
   "outputs": [],
   "source": [
    "import pandas as pd\n",
    "\n",
    "node_table = pd.read_csv(\n",
    "    \"https://raw.githubusercontent.com/skojaku/adv-net-sci-course/main/data/airport_network/node_table.csv\"\n",
    ")\n",
    "edge_table = pd.read_csv(\n",
    "    \"https://raw.githubusercontent.com/skojaku/adv-net-sci-course/main/data/airport_network/edge_table.csv\"\n",
    ")"
   ]
  },
  {
   "cell_type": "markdown",
   "id": "71516fae",
   "metadata": {},
   "source": [
    "# Assignment\n",
    "\n",
    "1. The network consists of communities. A community is a group of nodes that are densely connected. Visualize the network that best shows the communities, and color the nodes based on the metadata that explains the communities. And explain which layout algorithm is used.\n",
    "\n",
    "2. Visualize the empirical cumulative distribution of the degree distribution of the network. The x axis must be log scale, and the y axis must be the original scale.\n",
    "\n",
    "3. Visualize the empirical complementary cumulative distribution of the degree distribution of the network. Both x and y axes must be log scale.\n",
    "\n",
    "4. Discuss when to use the complementary cumulative distribution over the cumulative distribution.\n",
    "\n",
    "### Some hints:\n",
    "\n",
    "#### How to create a color map with Python\n",
    "\n",
    "Pre-configured color palettes are available in matplotlib and seaborn, for example\n",
    "```python\n",
    "import seaborn as sns\n",
    "cmap = sns.color_palette() # a preconfigured color palette (tab10 with saturation) in seaborn. There are many other color palettes in seaborn. See its documentation.\n",
    "```\n",
    "To specify node colors in `igraph`, you need to create a 1D array of length equal to the number of nodes. Each element in the array (say `node_color`) contains the color of the node. For instance, you can specify the color of $i$th node to be `red` by\n",
    "```python\n",
    "node_color[i] = \"#ff0000\"\n",
    "```\n",
    "Once you created the array, pass it to `igraph.plot` with argument `vertex_color`, e.g.,\n",
    "```python\n",
    "import igraph\n",
    "\n",
    "igraph.plot(\n",
    "    g,\n",
    "    vertex_color=vertex_color, # color\n",
    "    layout = \"random\", # layout algorithm\n",
    "    bbox=(700,700) #bounding box\n",
    ") # plot API. You may want to reduce the size of nodes, and change layout algorithm etc.\n",
    "# See the assignments in past and refer to the API document: https://igraph.org/python/tutorial/0.9.6/tutorial.html#specifying-colors-in-plots\n",
    "```\n",
    "\n",
    "\n",
    "#### Histogram and cumulative distribution\n",
    "\n",
    "[seaborn](https://seaborn.pydata.org/index.html) offers convenient functions to plot hisgrams and cumulative distributions.\n",
    "- `seaborn.histplot` draws a histgram. Note that the x-axis should be log scale, and you need to configure the plot appropriately (from a perspective of human perception).\n",
    "- `seaborn.ecdfplot` draws an empirical cumulative distribution. Note that you need to configure the plot since both x and y axes must be log scales.\n",
    "\n",
    "***Do not forget to label your axes!!!***"
   ]
  }
 ],
 "metadata": {
  "kernelspec": {
   "display_name": "Python 3",
   "language": "python",
   "name": "python3"
  }
 },
 "nbformat": 4,
 "nbformat_minor": 5
}
