{
 "cells": [
  {
   "cell_type": "markdown",
   "id": "0995e541",
   "metadata": {},
   "source": [
    "# Network visualization\n",
    "In this assignment, you will explore network visualization tools such as igraph, networkx, and Gephi. You have the flexibility to choose either tool, so feel free to experiment with both. I recommend starting with igraph or networkx since you have more control over the calculation and produce reproduceable results."
   ]
  },
  {
   "cell_type": "markdown",
   "id": "1f5914a1",
   "metadata": {},
   "source": [
    "# Network visualization tools"
   ]
  },
  {
   "cell_type": "markdown",
   "id": "4fe7d9b6",
   "metadata": {},
   "source": [
    "### networkx (not recommended)\n",
    "\n",
    "`networkx` is a Python package that offers a user-friendly interface. It is primarily written in Python, making it simple to install and modify. However, one drawback is that it is slow, particularly when dealing with large networks. Additionally, `networkx` may not faithfully implement certain algorithms, which raises concerns about its reliability. Despite its widespread usage, I do not recommend using this package for these reasons.\n",
    "\n",
    "### igraph\n",
    "\n",
    "`igraph` is an alternative to `networkx`. It is a fast, open source C library of a collection of network tools. See [here](https://python.igraph.org/en/stable/tutorials/quickstart.html#tutorials-quickstart) for how to use it.\n"
   ]
  },
  {
   "cell_type": "markdown",
   "id": "2e1d942c",
   "metadata": {},
   "source": [
    "### Other tools\n",
    "\n",
    "- **Gephi**: If you want an interactive network visualization, Gephi is a useful tool. Gephi can read various format for network data, including the csv formats we used previously.\n",
    "- **graph_tool**: The `graph tool` is a comprehensive set of network analysis tools that excels in its community detection algorithm. It provides a wide range of tools for effectively visualizing communities and hierarchical structures in networks.\n",
    "\n",
    "# Data\n",
    "\n",
    "We will use the airport network. The data about the nodes and edges can be found in \"airport_network\" folder. They are already preprocessed in table format.\n"
   ]
  },
  {
   "cell_type": "code",
   "execution_count": null,
   "id": "ca41acc7",
   "metadata": {},
   "outputs": [],
   "source": [
    "import pandas as pd\n",
    "node_table = pd.read_csv(\"airport_network/node_table.csv\")\n",
    "edge_table = pd.read_csv(\"airport_network/edge_table.csv\")"
   ]
  },
  {
   "cell_type": "markdown",
   "id": "f5c58cdf",
   "metadata": {},
   "source": [
    "# Assignment\n",
    "1. Load the network into the tool of your choosing.\n",
    "2. Create a visualization that you think best captures the network structure by changing the layout, node color and size, and answer the following questions.\n",
    "3. Is the network clustered? Can you explain the clusters by using nodes' meta data?\n",
    "4. Can you find the central nodes and gateway nodes?\n",
    "\n",
    "When complete, save the visualization you created (can be multiple), describe how you created it and why you think that it best describes the network structure. Then, compile the figures, results, and analysis into a pdf file and upload it."
   ]
  }
 ],
 "metadata": {
  "kernelspec": {
   "display_name": "Python 3",
   "language": "python",
   "name": "python3"
  }
 },
 "nbformat": 4,
 "nbformat_minor": 5
}
