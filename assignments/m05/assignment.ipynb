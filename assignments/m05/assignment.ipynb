{
 "cells": [
  {
   "cell_type": "markdown",
   "id": "77de7460",
   "metadata": {},
   "source": [
    "# Network visualization\n",
    "In this assignment, you will visualize a network. You have the flexibility to choose any visualization tool. But here are some suggestions for the tools:\n",
    "- [igraph](https://igraph.org/python/tutorial/0.9.6/visualisation.html)\n",
    "- [graph_tool](https://graph-tool.skewed.de/)\n",
    "- [networkx](https://networkx.org/documentation/stable/index.html)\n",
    "- [Gephi](https://gephi.org/)\n",
    "- [Cytoscape](https://cytoscape.org/)\n",
    "\n",
    "The choice of visualization tools depends on whether the visualization is exploratory or explanatory. Exploratory visualization is used for generating hypotheses, while explanatory visualization aims to demonstrate focal patterns in data. A powerful visualization can serve both purposes. Gephi and Cytoscape are good options for exploratory visualization as they offer interactive visualizations. Other tools lean more towards explanatory visualization, and provides a greater level of customization.\n",
    "\n",
    "In my personal opinion, Gephi and Cytoscape offer interactive visualizations with a GUI interface. However, these tools require manual configurations and may not be ideal if you need to create multiple visualizations. I personally prefer `igraph` and `graph_tool` as they are scalable, generate beautiful vector images, and offer highly customizable visualizations.\n",
    "\n",
    "# Data\n",
    "\n",
    "We will use the airport network. The data about the nodes and edges can be found in \"airport_network\" folder. They are already preprocessed in table format."
   ]
  },
  {
   "cell_type": "code",
   "execution_count": null,
   "id": "df16f266",
   "metadata": {
    "lines_to_next_cell": 2
   },
   "outputs": [],
   "source": [
    "import pandas as pd\n",
    "\n",
    "node_table = pd.read_csv(\n",
    "    \"https://raw.githubusercontent.com/skojaku/adv-net-sci-course/main/data/airport_network/node_table.csv\"\n",
    ")\n",
    "edge_table = pd.read_csv(\n",
    "    \"https://raw.githubusercontent.com/skojaku/adv-net-sci-course/main/data/airport_network/edge_table.csv\"\n",
    ")"
   ]
  },
  {
   "cell_type": "markdown",
   "id": "a8b5afd2",
   "metadata": {},
   "source": [
    "# Assignment\n",
    "\n",
    "Q1. The airport network has regional clusters, in which two airports in the same geographical region (e.g., Europe) are more densely connected to each other than those in different regions. Visualize the network to show the regional clusters. Color nodes by \"region\" in the node_table.\n",
    "\n",
    "Q2. Plot the histogram of the node degrees. X axis represents the degree and must be log scale. Y axis represents the probability density and must be linear scale. Use a fixed bin size for the histogram in logarithmic scale.\n",
    "\n",
    "Q3. Plot the empirical cumulative distribution of the node degrees. Both x and y axes must be log scale.\n",
    "\n",
    "Q4. Plot the empirical complementary cumulative distribution of the node degrees. Both x and y axes must be log scale.\n",
    "\n",
    "Q5. Discuss when to use the complementary cumulative distribution over the cumulative distribution.\n",
    "\n",
    "\n",
    "\n"
   ]
  },
  {
   "cell_type": "markdown",
   "id": "7ef25faf",
   "metadata": {},
   "source": [
    "### Some hints:\n",
    "\n",
    "#### How to create a color map with Python\n",
    "\n",
    "Pre-configured color palettes are available in matplotlib and seaborn, for example\n"
   ]
  },
  {
   "cell_type": "code",
   "execution_count": null,
   "id": "b5f0c1ca",
   "metadata": {},
   "outputs": [],
   "source": [
    "import seaborn as sns\n",
    "\n",
    "cmap = (\n",
    "    sns.color_palette()\n",
    ")  # a preconfigured color palette (tab10 with saturation) in seaborn. There are many other color palettes in seaborn. See its documentation."
   ]
  },
  {
   "cell_type": "markdown",
   "id": "8dba85a4",
   "metadata": {},
   "source": [
    "To specify node colors in `igraph`, you need to create a 1D array of length equal to the number of nodes. Each element in the array (say `node_color`) contains the color of the node. For instance, you can specify the color of $i$th node to be `red` by"
   ]
  },
  {
   "cell_type": "code",
   "execution_count": null,
   "id": "b018cdd5",
   "metadata": {
    "lines_to_next_cell": 2
   },
   "outputs": [],
   "source": [
    "n_nodes = 100  # number of nodes\n",
    "node_color = [\"black\"] * n_nodes  # color all nodes by black\n",
    "node_color[3] = \"#ff0000\"  # set the i=3 node to red"
   ]
  },
  {
   "cell_type": "markdown",
   "id": "2c7b0d5e",
   "metadata": {},
   "source": [
    "With igraph, once you created the array, pass it to `igraph.plot` with argument `vertex_color`, e.g.,"
   ]
  },
  {
   "cell_type": "code",
   "execution_count": null,
   "id": "b42e7195",
   "metadata": {},
   "outputs": [],
   "source": [
    "import igraph\n",
    "\n",
    "igraph.plot(\n",
    "    g,  # igraph object (see the previous assignment for how to construct it)\n",
    "    vertex_color=node_color,  # color\n",
    "    layout=\"random\",  # layout algorithm\n",
    "    bbox=(700, 700),  # bounding box\n",
    ")  # plot API. You may want to reduce the size of nodes, and change layout algorithm etc.\n",
    "# Also refer to the API document: https://igraph.org/python/tutorial/0.9.6/tutorial.html#specifying-colors-in-plots"
   ]
  },
  {
   "cell_type": "markdown",
   "id": "07d06891",
   "metadata": {},
   "source": [
    "And here are a small example for a visualization of a different network."
   ]
  },
  {
   "cell_type": "code",
   "execution_count": null,
   "id": "13fd0bb6",
   "metadata": {},
   "outputs": [],
   "source": [
    "import networkx as nx\n",
    "from scipy import sparse\n",
    "import igraph\n",
    "import seaborn as sns\n",
    "import numpy as np\n",
    "\n",
    "# Load a network for demonstration\n",
    "G = nx.karate_club_graph()  # Load the karate club network from the networkx\n",
    "A = nx.adjacency_matrix(G)  # get the adjacency matrix of a kareate club net\n",
    "\n",
    "# Constructing the igraph's network object\n",
    "src, trg, _ = sparse.find(sparse.triu(A, 1))  # will remove the self-loops\n",
    "g = igraph.Graph(tuple(zip(src, trg)))\n",
    "\n",
    "# Node attributes with which to color nodes\n",
    "node_labels = [l[1][\"club\"] for l in G.nodes(data=True)]\n",
    "\n",
    "# Specify node colors\n",
    "label_names, label_ids = np.unique(\n",
    "    node_labels, return_inverse=True\n",
    ")  # uniqify the node attribute\n",
    "cmap = sns.color_palette(\"colorblind\").as_hex()  # Color map\n",
    "palette = {\n",
    "    l: cmap[i] for i, l in enumerate(label_names)\n",
    "}  # create a dictionary of node labels and color\n",
    "node_color = [\n",
    "    palette[node_lab] for node_lab in node_labels\n",
    "]  # map from node attributes to color with the dictionary\n",
    "\n",
    "# Plot\n",
    "igraph.plot(\n",
    "    g,  # igraph object (see the previous assignment for how to construct it)\n",
    "    vertex_color=node_color,  # color\n",
    "    layout=\"kk\",  # layout algorithm\n",
    "    bbox=(300, 300),  # bounding box\n",
    ")  # plot API. You may want to reduce the size of nodes, and change layout algorithm etc.\n",
    "# Also refer to the API document: https://igraph.org/python/tutorial/0.9.6/tutorial.html#specifying-colors-in-plots"
   ]
  },
  {
   "cell_type": "markdown",
   "id": "4f05a8d6",
   "metadata": {},
   "source": [
    "#### How to draw histogram and cumulative distribution\n",
    "\n",
    "You have the freedom to utilize any tools for generating these plots. I would personally recommend using [seaborn](https://seaborn.pydata.org/index.html) ` as it is known for its clean and user-friendly interface. seaborn is built on top of matplotlib, which provides the flexibility to customize visualizations to a great extent.\n",
    "\n",
    "With seaborn, you can plot histgram and empirical cumulative distributions by using the following APIs.\n",
    "- `seaborn.histplot` for drawing a histgram.\n",
    "- `seaborn.ecdfplot` for drawing an empirical cumulative distribution.\n",
    "\n",
    "Read the API documentation carefully. You need some customization to fullfil the requirements from the questions in this assignment, particularly those related to log-scales.\n",
    "\n",
    "***Do not forget to label your axes!!!***\n",
    "\n",
    "----\n",
    "Q1"
   ]
  },
  {
   "cell_type": "code",
   "execution_count": null,
   "id": "3b8efa7c",
   "metadata": {},
   "outputs": [],
   "source": []
  },
  {
   "cell_type": "markdown",
   "id": "b44381e0",
   "metadata": {},
   "source": [
    "---\n",
    "Q2"
   ]
  },
  {
   "cell_type": "markdown",
   "id": "fc640142",
   "metadata": {},
   "source": [
    "---\n",
    "Q3"
   ]
  },
  {
   "cell_type": "markdown",
   "id": "827b0f60",
   "metadata": {},
   "source": [
    "---\n",
    "Q4"
   ]
  },
  {
   "cell_type": "code",
   "execution_count": null,
   "id": "0007732e",
   "metadata": {},
   "outputs": [],
   "source": []
  },
  {
   "cell_type": "markdown",
   "id": "e768a851",
   "metadata": {},
   "source": [
    "---\n",
    "Q5\n",
    "\n",
    "\n"
   ]
  }
 ],
 "metadata": {
  "kernelspec": {
   "display_name": "Python 3",
   "language": "python",
   "name": "python3"
  }
 },
 "nbformat": 4,
 "nbformat_minor": 5
}
