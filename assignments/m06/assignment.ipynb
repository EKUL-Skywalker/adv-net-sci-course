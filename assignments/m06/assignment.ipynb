{
 "cells": [
  {
   "cell_type": "markdown",
   "id": "d9259b15",
   "metadata": {},
   "source": [
    "# Path, connected components and centrality \n",
    "\n",
    "## Defining Paths \n",
    "There are many ways to count a length of a path between two nodes. Here are four basic definition of *paths*.\n",
    "\n",
    "- **Walk**: Walk is a sequence of nodes and edges that are connected to form a continuous rout in a network. In a directed network, edges must be traversed according to their direction. It is possible that there may not be a walk in both directed and undirected networks.\n",
    "- **Trail**: A walk that does not go through the same edge more than once. \n",
    "- **Path**: A walk that does not go through the same node more than once. \n",
    "- **Cycle**: Cycle is a path where source and target node are the same \n",
    "- **Path legnth**: Number of edges in the path. \n",
    "\n",
    "***Note***: \n",
    "The walk defined above is sometimes referred to as a *path*, and path defined above is instead called \"simple path.\" It is important to be aware of this definitional difference. For this course, we adopt the definitions listed above. \n",
    "\n",
    "Now, let's do some exercise. First, let's consider a simple graph below.  "
   ]
  },
  {
   "cell_type": "code",
   "execution_count": null,
   "id": "5a3bd32b",
   "metadata": {},
   "outputs": [],
   "source": [
    "import igraph\n",
    "\n",
    "g = igraph.Graph()\n",
    "g.add_vertices(4)\n",
    "g.add_edges([(0, 1), (1, 2), (0, 2), (0, 3)])\n",
    "igraph.plot(g, bbox=(150, 150), vertex_label=list(range(4)))"
   ]
  },
  {
   "cell_type": "markdown",
   "id": "8f5caec5",
   "metadata": {},
   "source": [
    "In a network, a path is defined as a series of edges that connect two nodes. In this straightforward example, there is at least one path connecting nodes 2 and 3. Let's generate the paths between them by using igraph."
   ]
  },
  {
   "cell_type": "code",
   "execution_count": null,
   "id": "75a4ded3",
   "metadata": {},
   "outputs": [],
   "source": [
    "g.get_all_simple_paths(2, to=3)"
   ]
  },
  {
   "cell_type": "markdown",
   "id": "0ae4ac33",
   "metadata": {},
   "source": [
    "A simple path is defined as a path that does not contain any cycles. If cycles were allowed, there would be an infinite number of paths as one could continuously go around the cycle as many times as they wanted. \n",
    "\n",
    "We are often most interested in shortest paths. In an unweighted network, the shortest path is the one with the fewest edges. We can see that of the two simple paths between nodes 2 and 3, one is shorter than the other. We can get this shortest path by"
   ]
  },
  {
   "cell_type": "code",
   "execution_count": null,
   "id": "eeabd9d3",
   "metadata": {},
   "outputs": [],
   "source": [
    "g.get_shortest_paths(2, to=3)"
   ]
  },
  {
   "cell_type": "markdown",
   "id": "6d5b7f05",
   "metadata": {},
   "source": [
    "Note that there can be multiple shortest paths between two nodes.\n",
    "\n",
    "# Connected component \n",
    "\n",
    "In the simple network above, we can see that for every pair of nodes, we can find a path connecting them. This is the definition of a connected graph. We can check this property for a given graph:"
   ]
  },
  {
   "cell_type": "code",
   "execution_count": null,
   "id": "10087504",
   "metadata": {},
   "outputs": [],
   "source": [
    "components = g.connected_components()\n",
    "print(\"# of components = \", len(components))  # number of components\n",
    "components.membership  # the IDs of the component each node belongs to."
   ]
  },
  {
   "cell_type": "markdown",
   "id": "0cbcac5c",
   "metadata": {},
   "source": [
    "Not every graph is connected:"
   ]
  },
  {
   "cell_type": "code",
   "execution_count": null,
   "id": "18d0916d",
   "metadata": {},
   "outputs": [],
   "source": [
    "g.add_vertices(2)\n",
    "g.add_edges([(4, 5)])\n",
    "igraph.plot(g, bbox=(150, 150), vertex_label=list(range(6)))"
   ]
  },
  {
   "cell_type": "code",
   "execution_count": null,
   "id": "28e09aca",
   "metadata": {},
   "outputs": [],
   "source": [
    "components = g.connected_components()\n",
    "print(\"# of components = \", len(components))  # number of components\n",
    "components.membership  # the IDs of the component each node belongs to."
   ]
  },
  {
   "cell_type": "markdown",
   "id": "ec89f3b3",
   "metadata": {},
   "source": [
    "And there is no path between nodes in different connected components. And therefore, there is no shortest path between them as well. "
   ]
  },
  {
   "cell_type": "code",
   "execution_count": null,
   "id": "3f49b09e",
   "metadata": {},
   "outputs": [],
   "source": [
    "g.get_shortest_paths(0, 5)"
   ]
  },
  {
   "cell_type": "markdown",
   "id": "5fb8b6d2",
   "metadata": {},
   "source": [
    "You can find the set of nodes in the same connected component by "
   ]
  },
  {
   "cell_type": "code",
   "execution_count": null,
   "id": "e015d7b4",
   "metadata": {},
   "outputs": [],
   "source": [
    "import numpy as np\n",
    "\n",
    "np.where(np.array(components.membership) == 0)[0]  # List of nodes with membership = 0\n",
    "np.where(np.array(components.membership) == 1)[0]  # List of nodes with membership = 1"
   ]
  },
  {
   "cell_type": "markdown",
   "id": "a0b3cddc",
   "metadata": {},
   "source": [
    "We often care about the largest connected component, which is sometimes referred to as the core of the network. We can make use of numpy `unique` function in order to obtain the largest connected component. "
   ]
  },
  {
   "cell_type": "code",
   "execution_count": null,
   "id": "094edb6b",
   "metadata": {},
   "outputs": [],
   "source": [
    "component_ids, _, freq = np.unique(\n",
    "    components.membership, return_counts=True, return_inverse=True\n",
    ")\n",
    "largest_connected_component_id = component_ids[np.argmax(freq)]\n",
    "nodes_in_largest_component = np.where(\n",
    "    np.array(components.membership) == largest_connected_component_id\n",
    ")[\n",
    "    0\n",
    "]  # list of nodes in the largest connected component.\n",
    "print(nodes_in_largest_component)"
   ]
  },
  {
   "cell_type": "code",
   "execution_count": null,
   "id": "bec81d68",
   "metadata": {},
   "outputs": [],
   "source": [
    "g_sub = g.induced_subgraph(nodes_in_largest_component)\n",
    "igraph.plot(g_sub, vertex_label=nodes_in_largest_component, bbox=(150, 150))"
   ]
  },
  {
   "cell_type": "markdown",
   "id": "76cb8e43",
   "metadata": {},
   "source": [
    "## Directed paths and components \n",
    "\n",
    "Let's extend these ideas about paths and connected components to directed graphs."
   ]
  },
  {
   "cell_type": "code",
   "execution_count": null,
   "id": "fbf0d3e7",
   "metadata": {},
   "outputs": [],
   "source": [
    "g = igraph.Graph(directed=True)\n",
    "g.add_vertices(6)\n",
    "g.add_edges(\n",
    "    [\n",
    "        (0, 1),\n",
    "        (1, 2),\n",
    "        (2, 1),\n",
    "        (2, 3),\n",
    "        (2, 5),\n",
    "        (3, 1),\n",
    "        (3, 4),\n",
    "        (3, 5),\n",
    "        (4, 5),\n",
    "        (5, 3),\n",
    "    ]\n",
    ")\n",
    "igraph.plot(g, bbox=(250, 250), vertex_label=list(range(6)))"
   ]
  },
  {
   "cell_type": "markdown",
   "id": "7ba43f21",
   "metadata": {},
   "source": [
    "In a directed graph, we know that an edge from one node to another does not necessarily mean that there is an edge in the opposite direction. This asymmetry also applies to paths in directed graphs. For example, in the given graph, there is a path from node 0 to node 3, but not in the reverse direction."
   ]
  },
  {
   "cell_type": "code",
   "execution_count": null,
   "id": "38d3ba9f",
   "metadata": {},
   "outputs": [],
   "source": [
    "print(\"From 0 to 3\", g.get_all_simple_paths(0, to=3))\n",
    "print(\"From 3 to 0\", g.get_all_simple_paths(3, to=0))"
   ]
  },
  {
   "cell_type": "markdown",
   "id": "28d162e2",
   "metadata": {},
   "source": [
    "The shorst path from 4 to 1 cannot simply go directly to node 3 due to the directionality of the edges; it has to go a longer route. "
   ]
  },
  {
   "cell_type": "code",
   "execution_count": null,
   "id": "c58958f3",
   "metadata": {},
   "outputs": [],
   "source": [
    "g.get_shortest_paths(4, 1)"
   ]
  },
  {
   "cell_type": "markdown",
   "id": "3c159a40",
   "metadata": {},
   "source": [
    "Directed networks have two kinds of connected components. \n",
    "- **Strongly connected components**: Strongly connected means that there exists a direct path between every pair of nodes, i.e., that from any node to any other nodes while respecting the edge directionality. \n",
    "- **Weakly connected components**: Weakly connected means that there exists a path between every pair of nodes when ignoring the edge directionality. "
   ]
  },
  {
   "cell_type": "code",
   "execution_count": null,
   "id": "dec995b6",
   "metadata": {},
   "outputs": [],
   "source": [
    "print(list(g.connected_components(mode=\"strong\")))\n",
    "print(list(g.connected_components(mode=\"weak\")))"
   ]
  },
  {
   "cell_type": "markdown",
   "id": "b7803e78",
   "metadata": {},
   "source": [
    "# Closeness centrality\n",
    "\n",
    "You are now able to compute one of the most widely used measure of network centrality, *closeness centrality*. Closeness centrality of a node measures how  *close* a node is to to any other nodes in a network. Nodes with a high closeness play an influential role in controlling *flows* on the network such as information, goods, and disease. More specifically, a closeness of a node is defined as\n",
    "\n",
    "$$\n",
    "c_i:= \\frac{n-1}{\\sum_{j, i\\neq j} d(i,j)},\n",
    "$$\n",
    "\n",
    "where $d(i,j)$ is the shortest path length between nodes $i$ and $j$, and $n$ is the number of nodes in the network. With `igraph`, it can be computed by "
   ]
  },
  {
   "cell_type": "code",
   "execution_count": null,
   "id": "662abcea",
   "metadata": {},
   "outputs": [],
   "source": [
    "g.closeness()"
   ]
  },
  {
   "cell_type": "markdown",
   "id": "dede82de",
   "metadata": {},
   "source": [
    "And the closeness centrality is affected by the edge directionality. But due to the asymmetric nature of the paths, there are two kinds of the closeness. One defined based on the length of *in-coming* paths and the other based on the length of *out-going* paths. Namely, \n",
    "$$\n",
    "c^{\\text{in}}_i:= \\frac{n-1}{\\sum_{j, i\\neq j} d(j,i)},\n",
    "$$\n",
    "$$\n",
    "c^{\\text{out}}_i:= \\frac{n-1}{\\sum_{j, i\\neq j} d(i,j)},\n",
    "$$\n",
    "where $d(i,j)$ is the length of directed path from node $i$ to node $j$. With `igraph`, they can be computed by  "
   ]
  },
  {
   "cell_type": "code",
   "execution_count": null,
   "id": "398cb5b9",
   "metadata": {},
   "outputs": [],
   "source": [
    "g.closeness(mode=\"in\"), g.closeness(mode=\"out\")"
   ]
  },
  {
   "cell_type": "markdown",
   "id": "c90a2ddc",
   "metadata": {},
   "source": [
    "Notice that node $0$ has NaN in coming closeness, because there is no path to node $i$ from any other nodes in the network. "
   ]
  },
  {
   "cell_type": "markdown",
   "id": "d9c2d241",
   "metadata": {},
   "source": [
    "# Betweenness centrality\n",
    "\n",
    "Betweenness centrality is another widespread centrality based on the shortest path lengths. It is defined by\n",
    "$$\n",
    "b_i:= \\sum_{s \\neq t\\neq i} \\frac{\\sigma_{s,i,t}}{\\sigma_{s,t}}\n",
    "$$\n",
    "where $\\sigma_{s,t}$ is the number of shortest paths between node $s$ and node $v$, and $\\sigma_{s,i,t}$ is the shortest paths between $s$ and $t$ that goes through node $i$. A node with a high betweeness centrality means that the node is a dominant intermediary of flows (that go through the shortest path) between nodes on the network. Or, you can think of it as a bottleneck of flows. \n",
    "\n",
    "Betweenness centrality is conceptually similar to the closeness centrality. But it gives a higher centrality to nodes intermediating different clusters than the closeness centrality does. You can compute the betweenness centrality by   "
   ]
  },
  {
   "cell_type": "code",
   "execution_count": null,
   "id": "d000cf5f",
   "metadata": {},
   "outputs": [],
   "source": [
    "g.betweenness()"
   ]
  },
  {
   "cell_type": "markdown",
   "id": "58c5ff76",
   "metadata": {},
   "source": [
    "# Assignment \n",
    "\n",
    "We will use the worldwide airport network. We ignore the edge directionality in this assingment. We load and construct the network as follows. "
   ]
  },
  {
   "cell_type": "code",
   "execution_count": null,
   "id": "75c0b38a",
   "metadata": {},
   "outputs": [],
   "source": [
    "import pandas as pd\n",
    "\n",
    "node_table = pd.read_csv(\n",
    "    \"https://raw.githubusercontent.com/skojaku/adv-net-sci-course/main/data/airport_network_v2/node_table.csv\"\n",
    ")\n",
    "edge_table = pd.read_csv(\n",
    "    \"https://raw.githubusercontent.com/skojaku/adv-net-sci-course/main/data/airport_network_v2/edge_table.csv\"\n",
    ")"
   ]
  },
  {
   "cell_type": "code",
   "execution_count": null,
   "id": "1916a73e",
   "metadata": {},
   "outputs": [],
   "source": [
    "src, trg = tuple(edge_table[[\"src\", \"trg\"]].values.T)\n",
    "edge_list = tuple(zip(src, trg))\n",
    "\n",
    "# node_id and name dictionary\n",
    "n_nodes = node_table.shape[0]\n",
    "id2name = np.array([\"\"] * n_nodes, dtype=\"<U64\")\n",
    "id2name[node_table[\"node_id\"]] = node_table[\"Name\"].values\n",
    "\n",
    "g = igraph.Graph(\n",
    "    edge_list,\n",
    "    vertex_attrs=dict(Name=id2name),\n",
    ")\n",
    "\n",
    "# You can retrieve the airport names by\n",
    "print(g.vs[0][\"Name\"], \",\", g.vs[1][\"Name\"], \", ...\")"
   ]
  },
  {
   "cell_type": "markdown",
   "id": "ca938ae8",
   "metadata": {},
   "source": [
    "**Question 1: Is there a direct flight between Syracuse airport (SYR) and Fairbanks Intl  Fairbanks (FAI)? A *direct* flight is one with no intermediate stops.**\n",
    "\n",
    "Note: \n",
    "You can find the node ids of the aiport by \n",
    "```python\n",
    "node_table[node_table[\"IATA/FAA\"].isin([\"FAI\", \"SYR\"])]  \n",
    "```"
   ]
  },
  {
   "cell_type": "code",
   "execution_count": null,
   "id": "489171b4",
   "metadata": {},
   "outputs": [],
   "source": []
  },
  {
   "cell_type": "markdown",
   "id": "4a912dc2",
   "metadata": {},
   "source": [
    "**Question 2: If I wanted to fly from Syracuse to Fairbanks, Alaska what would be an itinerary with the fewest number of flights? Show the itenerary with the airport names**\n",
    "\n",
    "Note: You can use id2name to get the aiport names, e.g., id2name[0] gives the name of the aiport corresponding to node 0."
   ]
  },
  {
   "cell_type": "code",
   "execution_count": null,
   "id": "a37dffb1",
   "metadata": {},
   "outputs": [],
   "source": []
  },
  {
   "cell_type": "markdown",
   "id": "3865b016",
   "metadata": {},
   "source": [
    "**Question 3: Is it possible to travel from any airport in the network to any other airport in the netwrok, possibly using connecting flights? In other words, does there exist a path in the network between every possible pair of airports? Ignore the airports with no edge.**"
   ]
  },
  {
   "cell_type": "code",
   "execution_count": null,
   "id": "9b9243bd",
   "metadata": {},
   "outputs": [],
   "source": []
  },
  {
   "cell_type": "markdown",
   "id": "b133f77a",
   "metadata": {},
   "source": [
    "**Question 4: Which airport is the most central in terms of the closeness centrality? List the top 5 most central airport. You may use the APIs to compute the shortest path but do not use built in APIs that give the closeness centrality such as igraph.Graph.closeness**. "
   ]
  },
  {
   "cell_type": "code",
   "execution_count": null,
   "id": "79b4a3f6",
   "metadata": {},
   "outputs": [],
   "source": [
    "# Your code -------------------\n",
    "# Compute the centrality\n",
    "\n",
    "centrality = np.zeros(n_nodes)\n",
    "centrality = (\n",
    "    ...\n",
    ")  # Compute the closeness centrality of each node $i$ and set it to centrality[i].\n",
    "# -------------------\n",
    "\n",
    "# Check the correctness of the computed closeness\n",
    "assert np.all(np.isclose(centrality, g.closeness()))\n",
    "\n",
    "# Show the top K airport with the largst centrality\n",
    "topK = 5\n",
    "top_airport_ids = np.argsort(centrality)[::-1][:topK]\n",
    "node_table.iloc[top_airport_ids][[\"Name\"]]"
   ]
  },
  {
   "cell_type": "markdown",
   "id": "7a1df360",
   "metadata": {},
   "source": [
    "**Question 5: Compute the betweenness centrality of the airports and show the top 5 airports. You may use APIs that directly compute the betweenness centrality such as igraph.Graph.betweenness**. \n",
    "\n",
    "You should see an interesting airport that is not central in terms of the closeness centrality but is central in terms of the betweeness centrality. If you are curious why, here is a nice reading to understand why: https://toreopsahl.com/2011/08/12/why-anchorage-is-not-that-important-binary-ties-and-sample-selection/ "
   ]
  }
 ],
 "metadata": {
  "kernelspec": {
   "display_name": "Python 3",
   "language": "python",
   "name": "python3"
  },
  "language_info": {
   "name": "python",
   "version": "3.9.0"
  }
 },
 "nbformat": 4,
 "nbformat_minor": 5
}
