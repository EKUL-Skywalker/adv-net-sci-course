{
 "cells": [
  {
   "cell_type": "markdown",
   "id": "90c827d7",
   "metadata": {},
   "source": [
    "![](https://www.lepoint.fr/images/2016/12/13/6457609lpw-6457837-article-jpg_3958977_1250x625.jpg)\n",
    "\n",
    "# Constructing data and data integrity\n",
    "\n",
    "In this assignment, we will learn the importance of data integrity and a widespread network construction method, *one-mode projection*, with [Star Wars Social Network](http://evelinag.com/blog/2015/12-15-star-wars-social-network/index.html). It is a network of Star Wars characters in which an edge connects two characters if they appear in the same scene.\n",
    "\n",
    "## Data\n",
    "\n",
    "The Star Wars Social Network is built using movie scripts, and its construction involves complex natural language processing techniques beyond this course's scope. Therefore, we will use a pre-compiled dataset provided by the network's creator, which is available at the creator's [Github](https://github.com/evelinag/StarWars-social-network). More specifically, we will use `data/charactersPerScene.csv.` Look at [the data](https://github.com/evelinag/StarWars-social-network/blob/master/data/charactersPerScene.csv) and read carefully the documentation by the creator below."
   ]
  },
  {
   "cell_type": "markdown",
   "id": "5be8cc6a",
   "metadata": {},
   "source": [
    "- `charactersPerScene.csv`: each line contains the name of a character followed by the relative\n",
    "   times when the character is mentioned in the screenplay. I used this data to generate character timelines.\n",
    "   The values were computed as\n",
    "\n",
    "       episode number + scene number/number of scenes in the episode\n",
    "\n",
    "   Values [0,1] correspond to mentions in Episode I, [1,2] to Episode II etc.\n",
    "\n",
    "   [Note that this is not a valid CSV file because each line contains\n",
    "   a different number of columns]"
   ]
  },
  {
   "cell_type": "markdown",
   "id": "dcd97e5c",
   "metadata": {
    "lines_to_next_cell": 0
   },
   "source": [
    "What does that mean? Let's see a line in the file:\n",
    "```csv\n",
    "LUKE,2.94605809128631,3.0082135523614,3.02669404517454,...\n",
    "```\n",
    "The first value is decomposed into\n",
    "$$\n",
    "2.94605809128631 = \\underbrace{2}_{\\text{Episode number -1}} + \\underbrace{0.94605809128631}_{\\text{Scene \\#}}.\n",
    "$$\n",
    "This means that Luke makes his first appearance in Episode 3 during a particular scene specified by $0.94605809128631$.\n",
    "\n",
    "The original data is not a valid table since each row has a different number of columns, and thus not *tidy* (an important concept we will learn in a different module). Therefore, I reformat the data to make it easily loadable by pandas like [this](https://raw.githubusercontent.com/skojaku/adv-net-sci-course/main/data/charactersPerScene-tidied.csv).\n",
    "```csv\n",
    "character, scene,episode\n",
    "LUKE, 2.94605809128631, 3\n",
    "LUKE, 3.0082135523614, 4\n",
    "LUKE, 3.02669404517454, 4\n",
    "...\n",
    "```\n",
    "\n",
    "Although the scene \\# looks like a numerical value, ***DO NOT load them as numerical numbers***. There are multiple formats to represent floating values, and depending on these formats, the values may be changed to similar but distinct float values. For example, `2.94605809128631` can be adjusted to"
   ]
  },
  {
   "cell_type": "code",
   "execution_count": null,
   "id": "db8a60cf",
   "metadata": {
    "lines_to_next_cell": 0
   },
   "outputs": [],
   "source": [
    "2.94605809128631  # Double-precision float (float 64)\n",
    "2.946058  # Single precision float (float 32)\n",
    "2.945  # half-precision float (float 16)"
   ]
  },
  {
   "cell_type": "markdown",
   "id": "6db30c55",
   "metadata": {},
   "source": [
    "In Python, we often don't need to explicitly specify data types because Python is capable of automatically inferring the appropriate types. However, there are cases in which Python may misinterpret and break the data, and identifying this type of error is notoriously difficult.\n",
    "\n",
    "Keeping this in mind, let's load the data with pandas. If you load the data with `pandas.read_csv` API, it will infer the data types of the table columns, which may break the data. Thus, we **must** specify the data types. This can be done with `dtype` argument of the API. See [documentation](https://pandas.pydata.org/docs/reference/api/pandas.read_csv.html) for how to specify data types."
   ]
  },
  {
   "cell_type": "code",
   "execution_count": null,
   "id": "5aa73224",
   "metadata": {
    "lines_to_next_cell": 0
   },
   "outputs": [],
   "source": [
    "# Assignment:\n",
    "# By using pandas.DataFrame.to_csv API, load the data from the following URL, and save it as `data_table` with the column data types being appropriately specified.\n",
    "#\n",
    "import pandas as pd\n",
    "import numpy as np\n",
    "\n",
    "data_url = \"https://raw.githubusercontent.com/skojaku/adv-net-sci-course/main/data/charactersPerScene-tidied.csv\"\n",
    "data_table = ...  # specify the data types"
   ]
  },
  {
   "cell_type": "code",
   "execution_count": null,
   "id": "07d107c6",
   "metadata": {
    "lines_to_next_cell": 0
   },
   "outputs": [],
   "source": [
    "# Test Data type\n",
    "assert np.all([isinstance(s, str) for s in data_table[\"character\"].values])\n",
    "assert np.all([isinstance(s, str) for s in data_table[\"scene\"].values])\n",
    "display(data_table)"
   ]
  },
  {
   "cell_type": "markdown",
   "id": "28b20807",
   "metadata": {
    "lines_to_next_cell": 0
   },
   "source": [
    "The dataset includes information on all episodes. Let's narrow our focus to a specific episode."
   ]
  },
  {
   "cell_type": "code",
   "execution_count": null,
   "id": "6d41d330",
   "metadata": {},
   "outputs": [],
   "source": [
    "# Assignment: Select the episode you like\n",
    "episode = 3 # change or keep the value.\n",
    "data_table = data_table.query(f\"episode=={episode}\")"
   ]
  },
  {
   "cell_type": "markdown",
   "id": "f0bed62a",
   "metadata": {
    "lines_to_next_cell": 0
   },
   "source": [
    "## Network construction\n",
    "\n",
    "Star Wars social network consists of nodes representing the characters and edges representing their *co-appearances* in the same scene. In other words, we place edges between characters if they appear in the same scene.\n",
    "We can think of the network as a *one-mode projection* of a bipartite network consisting of characters and scenes projected on the character mode. For instance, let's consider the bipartite network.\n",
    "\n",
    "![](https://toreopsahl.files.wordpress.com/2009/04/fig1_twomode_half.png?w=271&zoom=2)\n",
    "\n",
    "In the figure, the blue and orange nodes represent the characters and scenes, respectively. The Start Wars social network can be constructed by placing an edge between the blue nodes (characters) and removing the orange nodes (scene). An edge is weighted by the number of times two characters co-appear in the same scene.\n",
    "\n",
    "![](https://toreopsahl.files.wordpress.com/2009/04/fig1_twomode_simple.png?w=271&zoom=2)\n",
    "\n",
    "Operationally, let's construct the bipartite network in the following steps:\n",
    "1. Normalize data\n",
    "2. Construct the adjacency matrix $B$ of the bipartite network, where rows and columns correspond to characters and scenes, respectively.\n",
    "3. One-mode projection by $B B^\\top$\n",
    "\n",
    "### Step 1"
   ]
  },
  {
   "cell_type": "code",
   "execution_count": null,
   "id": "1472affe",
   "metadata": {},
   "outputs": [],
   "source": [
    "# Data normalization\n",
    "character_names, character_ids = np.unique(data_table[\"character\"], return_inverse=True)\n",
    "scene_names, scene_ids = np.unique(data_table[\"scene\"], return_inverse=True)\n",
    "\n",
    "character_table = pd.DataFrame(\n",
    "    {\n",
    "        \"character_id\": np.arange(len(character_names), dtype=int),\n",
    "        \"name\": character_names,\n",
    "    }\n",
    ")\n",
    "scene_table = pd.DataFrame(\n",
    "    {\"scene_id\": np.arange(len(scene_names), dtype=int), \"scene_number\": scene_names}\n",
    ")\n",
    "\n",
    "n_characters = character_table.shape[0]\n",
    "n_scenes = scene_table.shape[0]"
   ]
  },
  {
   "cell_type": "markdown",
   "id": "4bd52551",
   "metadata": {
    "lines_to_next_cell": 0
   },
   "source": [
    "### Step 2"
   ]
  },
  {
   "cell_type": "code",
   "execution_count": null,
   "id": "d4ad48de",
   "metadata": {},
   "outputs": [],
   "source": [
    "# Assignment:\n",
    "# Construct the adjacency matrix B of the bipartite network, where\n",
    "# B[i,j] = 1 if character i appears at scene j. Otherwise B[i,j] = 0.\n",
    "#\n",
    "# Hint: You can use the `character_ids` and `scene_ids` generated in the data normalization step.\n",
    "#\n",
    "from scipy import sparse\n",
    "\n",
    "B = ..."
   ]
  },
  {
   "cell_type": "code",
   "execution_count": null,
   "id": "e29ef8fb",
   "metadata": {},
   "outputs": [],
   "source": [
    "# Test\n",
    "assert B.shape[0] == n_characters\n",
    "assert B.shape[1] == n_scenes\n",
    "assert B.sum() == data_table.shape[0]"
   ]
  },
  {
   "cell_type": "markdown",
   "id": "bf391921",
   "metadata": {
    "lines_to_next_cell": 0
   },
   "source": [
    "### Step 3"
   ]
  },
  {
   "cell_type": "code",
   "execution_count": null,
   "id": "d7a877b2",
   "metadata": {},
   "outputs": [],
   "source": [
    "# Assignment:\n",
    "# Create the Star Wars social network A by projecting the bipartite network B on the character mode (one-mode projection).\n",
    "#\n",
    "# Think about the matrix operation corresponding to the one-mode projection.\n",
    "#\n",
    "A = ..."
   ]
  },
  {
   "cell_type": "code",
   "execution_count": null,
   "id": "cf91df01",
   "metadata": {},
   "outputs": [],
   "source": [
    "# Test\n",
    "import scipy\n",
    "\n",
    "assert A.shape[0] == B.shape[0]\n",
    "assert A.shape[1] == B.shape[0]\n",
    "\n",
    "vals = scipy.linalg.svdvals(sparse.csr_matrix(B).toarray())\n",
    "assert np.isclose(sparse.csr_matrix(A).trace(), np.sum(vals**2))"
   ]
  },
  {
   "cell_type": "markdown",
   "id": "605b5b52",
   "metadata": {
    "lines_to_next_cell": 0
   },
   "source": [
    "Let's visualize the network"
   ]
  },
  {
   "cell_type": "code",
   "execution_count": null,
   "id": "2e3fa117",
   "metadata": {},
   "outputs": [],
   "source": [
    "import igraph\n",
    "\n",
    "src, trg, weight = sparse.find(sparse.triu(A, 1))  # will remove the self-loops\n",
    "\n",
    "edge_list = tuple(zip(src, trg))\n",
    "\n",
    "g = igraph.Graph(\n",
    "    edge_list,\n",
    "    vertex_attrs=dict(label=character_table[\"name\"].values),\n",
    "    edge_attrs=dict(weight=weight),\n",
    ")\n",
    "\n",
    "# See here for how to configure the visualization\n",
    "# https://igraph.org/python/tutorial/0.9.6/visualisation.html\n",
    "max_edge_width = 5\n",
    "min_edge_weight_for_display = 5\n",
    "layout = g.layout(\"kk\")\n",
    "igraph.plot(\n",
    "    g,\n",
    "    vertex_size=20 * np.sqrt(A.sum(axis=1)) / np.sqrt(np.max(A.sum(axis=1))),\n",
    "    vertex_color=\"grey\",\n",
    "    vertex_frame_color=\"black\",\n",
    "    vertex_label_color=\"yellow\",\n",
    "    edge_color=\"#adadad88\",\n",
    "    background=\"black\",\n",
    "    vertex_label_size=np.maximum(6, np.power(A.sum(axis=1), 0.35)),\n",
    "    edge_width=max_edge_width\n",
    "    * np.sqrt(g.es[\"weight\"])\n",
    "    / np.sqrt(np.max(g.es[\"weight\"])),\n",
    "    bbox=(500, 500),\n",
    "    weights=np.sqrt(g.es[\"weight\"]),\n",
    "    vertex_markeredge=0,\n",
    "    layout=layout,\n",
    ")"
   ]
  },
  {
   "cell_type": "markdown",
   "id": "516bb84c",
   "metadata": {},
   "source": [
    "## Edge weighting\n",
    "\n",
    "The one-mode projection weights edge based on the number of times two characters co-appear in the same scene. But this simple counting method may overemphasize connections between characters, especially when many characters appear in the same scene (for example, this one):\n",
    "\n",
    "![](https://miro.medium.com/v2/resize:fit:1400/1*YWKhI4Kup1aSrY68VelC6g.png)\n",
    "\n",
    "If more than two characters are present in a scene, it is reasonable to consider that the level of interaction is weaker than in a scene with only two characters.\n",
    "\n",
    "Let's implement this idea. We will adopt a fractional counting proposed by [Newman (2001)](https://journals.aps.org/pre/abstract/10.1103/PhysRevE.64.016132), which normalizes the edge weight by the number of characters appearing in a scene. The new edge weight in the Star Wars social network is given by the following formula:\n",
    "$$\n",
    "A_{ij} = \\sum_{s \\in \\text{ scenes}} \\frac{B_{is}B_{js}}{d_s}\n",
    "$$\n",
    "Where $d_s = \\sum_{\\ell} B_{\\ell s}$ is the degree (i.e., the number of edges) of scene $s$ in the bipartite network. Variable $d_s$ is the number of characters appearing at the scene, and it discounts the strength of the connections between two characters $i$ and $j$."
   ]
  },
  {
   "cell_type": "code",
   "execution_count": null,
   "id": "96a144c9",
   "metadata": {},
   "outputs": [],
   "source": [
    "# Assignment\n",
    "# Generate the adjacency matrix `A_newman` of the Star Wars social network with Newman's edge weighting method."
   ]
  },
  {
   "cell_type": "code",
   "execution_count": null,
   "id": "a0a11874",
   "metadata": {},
   "outputs": [],
   "source": [
    "# Test:\n",
    "assert A_newman.shape[0] == B.shape[0]\n",
    "assert A_newman.shape[1] == B.shape[0]"
   ]
  },
  {
   "cell_type": "code",
   "execution_count": null,
   "id": "fe73e9d1",
   "metadata": {},
   "outputs": [],
   "source": [
    "import igraph\n",
    "\n",
    "src, trg, weight = sparse.find(sparse.triu(A_newman, 1))  # will remove the self-loops\n",
    "edge_list = tuple(zip(src, trg))\n",
    "g = igraph.Graph(\n",
    "    edge_list,\n",
    "    vertex_attrs=dict(label=character_table[\"name\"].values),\n",
    "    edge_attrs=dict(weight=weight),\n",
    ")\n",
    "\n",
    "# See here for how to configure the visualization\n",
    "# https://igraph.org/python/tutorial/0.9.6/visualisation.html\n",
    "layout = g.layout(\"kk\")\n",
    "igraph.plot(\n",
    "    g,\n",
    "    vertex_size=20\n",
    "    * np.sqrt(A_newman.sum(axis=1))\n",
    "    / np.sqrt(np.max(A_newman.sum(axis=1))),\n",
    "    vertex_color=\"grey\",\n",
    "    vertex_frame_color=\"black\",\n",
    "    vertex_label_color=\"yellow\",\n",
    "    edge_color=\"#adadad88\",\n",
    "    background=\"black\",\n",
    "    vertex_label_size=np.maximum(6, np.power(A_newman.sum(axis=1), 0.4)),\n",
    "    edge_width=max_edge_width\n",
    "    * np.sqrt(g.es[\"weight\"])\n",
    "    / np.sqrt(np.max(g.es[\"weight\"])),\n",
    "    bbox=(500, 500),\n",
    "    weights=np.sqrt(g.es[\"weight\"]),\n",
    "    vertex_markeredge=0,\n",
    "    layout=layout,\n",
    ")"
   ]
  },
  {
   "cell_type": "markdown",
   "id": "8a2ed16e",
   "metadata": {},
   "source": [
    "Can you find any difference? Which one makes more sense to you?"
   ]
  },
  {
   "cell_type": "markdown",
   "id": "cb617790",
   "metadata": {
    "lines_to_next_cell": 0
   },
   "source": [
    "## Assignment: Create Les Miserable Network\n",
    "\n",
    "Let's create a dataset of a social network of the characters in Les Miserables by Victor Hugo. You can employ any edge weighting method.\n",
    "\n",
    "Steps:\n",
    "1. Utilize the pre-processed dataset available at this link: [pre-processed dataset](https://github.com/skojaku/adv-net-sci-course/tree/main/data/les_miserable).\n",
    "2. Construct a node table consisting of columns labeled \"node_id\", \"code\", \"name\", where \"node_id\" column contains the integer IDs of the characters, the \"code\"  column contains the name codes (represented by the two letters in the characters.csv file), and \"name\" column corresponds to the `name` column in `characters_table` in the following code cell.\n",
    "3. Develop an edge table comprising columns labeled \"src\", \"trg\", and \"weight\" which represent the node IDs and the weight of each edge.\n",
    "4. Visualize the network.\n",
    "5. Save the node table and the edge table as separate CSV files.\n",
    "6. Document your Les Miserables network dataset by including the following information:\n",
    "   - Specify the data source.\n",
    "   - Describe the processes involved in transforming the source data into the new dataset.\n",
    "   - Explain the generated data, including the attributes of nodes and edges.\n",
    "\n",
    "Once you have completed these steps, please submit the following files:\n",
    "1. The notebook file in .ipynb format, along with its corresponding HTML file.\n",
    ". The node table and edge table are CSV files.\n",
    "\n",
    "---\n",
    "Write a code to generate the network here:"
   ]
  },
  {
   "cell_type": "code",
   "execution_count": null,
   "id": "374f42c0",
   "metadata": {},
   "outputs": [],
   "source": [
    "character_table_url = \"https://raw.githubusercontent.com/skojaku/adv-net-sci-course/main/data/les_miserable/characters.csv\"\n",
    "section_table_url = \"https://raw.githubusercontent.com/skojaku/adv-net-sci-course/main/data/les_miserable/section_character_table.csv\"\n",
    "\n",
    "# Your code here ---------------------\n",
    "character_table = pd.read_csv(character_table_url, dtype={\"code\": str, \"name\": str})\n",
    "..."
   ]
  },
  {
   "cell_type": "markdown",
   "id": "357eac07",
   "metadata": {
    "lines_to_next_cell": 0
   },
   "source": [
    "---\n",
    "Visualization here"
   ]
  },
  {
   "cell_type": "code",
   "execution_count": null,
   "id": "a61f006c",
   "metadata": {
    "lines_to_next_cell": 0
   },
   "outputs": [],
   "source": []
  },
  {
   "cell_type": "markdown",
   "id": "98ef2a63",
   "metadata": {
    "lines_to_next_cell": 0
   },
   "source": [
    "---\n",
    "Documentation about your dataset."
   ]
  }
 ],
 "metadata": {
  "kernelspec": {
   "display_name": "Python 3",
   "language": "python",
   "name": "python3"
  }
 },
 "nbformat": 4,
 "nbformat_minor": 5
}
