{
 "cells": [
  {
   "cell_type": "markdown",
   "id": "426903f8",
   "metadata": {},
   "source": [
    "# Assignment\n",
    "\n",
    "## Tidy data"
   ]
  },
  {
   "cell_type": "markdown",
   "id": "b21cd924",
   "metadata": {},
   "source": [
    "Let's examine this particular dataset, which can be accessed at the following URL:\n",
    "https://raw.githubusercontent.com/tidyverse/tidyr/4c0a8d0fdb9372302fcc57ad995d57a43d9e4337/vignettes/pew.csv"
   ]
  },
  {
   "cell_type": "code",
   "execution_count": null,
   "id": "6d354663",
   "metadata": {},
   "outputs": [],
   "source": [
    "import pandas as pd\n",
    "pew_df = pd.read_csv('https://raw.githubusercontent.com/tidyverse/tidyr/4c0a8d0fdb9372302fcc57ad995d57a43d9e4337/vignettes/pew.csv')\n",
    "pew_df"
   ]
  },
  {
   "cell_type": "markdown",
   "id": "66b6daba",
   "metadata": {},
   "source": [
    "This dataset pertains to the correlation between income and religion and has been compiled from a study conducted by the Pew Research Center. For further information, please refer to this link. Now, let's determine whether this dataset is tidy or not and the reasons behind it.\n",
    "\n",
    "It appears that many of the columns in the dataset represent values rather than variable names. This makes the dataset untidy. To make it tidy, we can utilize the \"melt\" function provided by pandas.\n",
    "\n",
    "The \"melt\" function allows us to specify the variable columns using the id_vars parameter and the value columns using the value_vars parameter. Additionally, we can provide names for the variable column and the value column. By using this function, we can easily transform the dataset into a tidy format."
   ]
  },
  {
   "cell_type": "code",
   "execution_count": null,
   "id": "a89836ab",
   "metadata": {
    "lines_to_next_cell": 2
   },
   "outputs": [],
   "source": [
    "# Assignment: Tidy the data table by using melt function. Use variable name \"income\" and value name \"frequency\"\n",
    "# The following code is the tidy format of the table you should see when you are successful. Note that the values are dummies.\n",
    "pew_tidy_df = pd.DataFrame({\"religion\": [\"ABCD\" for i in range(15)],\n",
    "                            \"income\": [\"1k\" for i in range(15)],\n",
    "                            \"frequency\": [i for i in range(15)]})"
   ]
  },
  {
   "cell_type": "markdown",
   "id": "35c10565",
   "metadata": {},
   "source": [
    "# Data types\n",
    "\n",
    "Let's discuss data types briefly. Understanding data types is crucial not only for selecting the appropriate visualizations but also for efficient data computation and storage. You may not have considered how pandas represents data in memory. A Pandas Dataframe consists of a collection of Series, which are essentially numpy arrays. An array can contain fixed-length items like integers or variable-length items like strings. Taking the time to consider the correct data type can potentially save a significant amount of memory and time.\n",
    "\n",
    "A great example of this is the categorical data type. If you have a variable that only has a few possible values, it can be considered categorical data. Let's examine the income variable as an illustration."
   ]
  },
  {
   "cell_type": "code",
   "execution_count": null,
   "id": "a1bb7520",
   "metadata": {},
   "outputs": [],
   "source": [
    "pew_tidy_df.income.value_counts()"
   ]
  },
  {
   "cell_type": "markdown",
   "id": "bc4bd363",
   "metadata": {},
   "source": [
    "These were the column names in the original untidy dataset. The value can only fall within one of these income ranges, making it categorical data. What data type does pandas use to store this column?"
   ]
  },
  {
   "cell_type": "code",
   "execution_count": null,
   "id": "223b7193",
   "metadata": {},
   "outputs": [],
   "source": [
    "pew_tidy_df.income.dtype"
   ]
  },
  {
   "cell_type": "markdown",
   "id": "c61105fa",
   "metadata": {},
   "source": [
    "The \"O\" represents an object data type, which differs from integer or float as it does not have a fixed size. The series includes a type of pointer to the specific text objects. It is possible to examine the amount of memory utilized by the dataset."
   ]
  },
  {
   "cell_type": "code",
   "execution_count": null,
   "id": "01d8fae4",
   "metadata": {},
   "outputs": [],
   "source": [
    "pew_tidy_df.memory_usage()"
   ]
  },
  {
   "cell_type": "code",
   "execution_count": null,
   "id": "9df06803",
   "metadata": {},
   "outputs": [],
   "source": [
    "pew_tidy_df.memory_usage(deep=True)"
   ]
  },
  {
   "cell_type": "markdown",
   "id": "38e6c395",
   "metadata": {},
   "source": [
    "What is the purpose of the deep=True option? When deep=True is not specified, the memory usage method only provides information on the memory used by the numpy arrays in the pandas dataframe. However, when deep=True is passed, it includes the memory used by all text objects, giving you the total memory usage. Consequently, the religion and income columns occupy nearly ten times more memory than the frequency column, which is simply an array of integers.\n",
    "\n",
    "Is there a way to optimize memory usage? It is important to note that the income variable consists of only 10 categories. Therefore, we only require 10 numbers to represent these categories. However, it is necessary to store the names of each category, which incurs a one-time cost. The most straightforward approach to convert a column is by utilizing the astype method."
   ]
  },
  {
   "cell_type": "code",
   "execution_count": null,
   "id": "39c7e51d",
   "metadata": {},
   "outputs": [],
   "source": [
    "income_categorical_series = pew_tidy_df.income.astype('category')"
   ]
  },
  {
   "cell_type": "code",
   "execution_count": null,
   "id": "bacf4a2d",
   "metadata": {},
   "outputs": [],
   "source": [
    "income_categorical_series.dtype"
   ]
  },
  {
   "cell_type": "markdown",
   "id": "667f6e6d",
   "metadata": {},
   "source": [
    "This series has the CategoricalDtype dtype and has much less memory by factor of ten!"
   ]
  },
  {
   "cell_type": "code",
   "execution_count": null,
   "id": "676ef6e8",
   "metadata": {},
   "outputs": [],
   "source": [
    "income_categorical_series.memory_usage(deep=True)"
   ]
  },
  {
   "cell_type": "markdown",
   "id": "025420ac",
   "metadata": {
    "lines_to_next_cell": 0
   },
   "source": [
    "If the categories have ordering, you can specify the ordering too."
   ]
  },
  {
   "cell_type": "code",
   "execution_count": null,
   "id": "acc5c76b",
   "metadata": {},
   "outputs": [],
   "source": [
    "from pandas.api.types import CategoricalDtype\n",
    "income_type = CategoricalDtype(categories=[\"Don't know/refused\", '<$10k', '$10-20k', '$20-30k', '$30-40k','$40-50k', '$50-75k', '$75-100k', '$100-150k', '>150k'], ordered=True)\n",
    "income_type"
   ]
  },
  {
   "cell_type": "markdown",
   "id": "063d5414",
   "metadata": {},
   "source": [
    "Now, the assignment for you is to convert both religion and income columns of pew_tidy_df as categorical dtype and show that pew_tidy_df now uses much less memory."
   ]
  },
  {
   "cell_type": "code",
   "execution_count": null,
   "id": "5677bf58",
   "metadata": {},
   "outputs": [],
   "source": [
    "# Assignment: Convert both religion and income columns of pew_tidy_df as categorical dtype and show that pew_tidy_df now uses much less memory."
   ]
  },
  {
   "cell_type": "markdown",
   "id": "0f03491d",
   "metadata": {},
   "source": [
    "# Want to learn more?\n",
    "- [Tidy Data in Python ](http://www.jeannicholashould.com/tidy-data-in-python.html)\n",
    "- [Stephen Simmons| Pandas from the Inside](https://www.youtube.com/watch?v=CowlcrtSyME)\n",
    "- [Data school: How do I make my pandas DataFrame smaller and faster?](https://www.youtube.com/watch?v=wDYDYGyN_cw)"
   ]
  }
 ],
 "metadata": {
  "kernelspec": {
   "display_name": "Python 3",
   "language": "python",
   "name": "python3"
  }
 },
 "nbformat": 4,
 "nbformat_minor": 5
}
